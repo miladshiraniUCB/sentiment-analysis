{
 "cells": [
  {
   "cell_type": "markdown",
   "metadata": {
    "heading_collapsed": true
   },
   "source": [
    "# Loading Libraries"
   ]
  },
  {
   "cell_type": "code",
   "execution_count": 105,
   "metadata": {
    "hidden": true
   },
   "outputs": [],
   "source": [
    "import numpy as np\n",
    "import pandas as pd\n",
    "\n",
    "# import nltk\n",
    "# from nltk import FreqDist\n",
    "\n",
    "import seaborn as sns\n",
    "import matplotlib.pyplot as plt\n",
    "from matplotlib.ticker import MaxNLocator\n",
    "\n",
    "from sklearn.feature_extraction.text import TfidfVectorizer\n",
    "from sklearn.model_selection import GridSearchCV, train_test_split\n",
    "from sklearn.metrics import confusion_matrix, ConfusionMatrixDisplay ,roc_curve, auc\n",
    "from sklearn.metrics import f1_score, precision_score, recall_score\n",
    "from sklearn.metrics import classification_report, accuracy_score\n",
    "from sklearn.metrics import plot_confusion_matrix\n",
    "from sklearn.preprocessing import LabelEncoder\n",
    "\n",
    "from sklearn.naive_bayes import MultinomialNB\n",
    "from sklearn.linear_model import LogisticRegression\n",
    "from sklearn.ensemble import RandomForestClassifier\n",
    "from sklearn.tree import DecisionTreeClassifier\n",
    "import xgboost as xgb\n",
    "import lightgbm as lgb\n",
    "\n",
    "\n",
    "from imblearn.over_sampling import SMOTE, ADASYN\n",
    "\n",
    "import warnings\n",
    "warnings.filterwarnings('ignore')"
   ]
  },
  {
   "cell_type": "markdown",
   "metadata": {
    "heading_collapsed": true
   },
   "source": [
    "# Functions We Use"
   ]
  },
  {
   "cell_type": "code",
   "execution_count": 138,
   "metadata": {
    "hidden": true
   },
   "outputs": [],
   "source": [
    "def print_results(model, y_test, X_test):\n",
    "\n",
    "  ### This Function prints AUC score, f1 score, recall and precision scores.\n",
    "  \n",
    "    y_pred = model.predict(X_test)\n",
    "    y_pred_proba = model.predict_proba(X_test)\n",
    "    \n",
    "#     test_fpr , test_tpr , test_thresh = roc_curve(y_test, y_pred_proba[:,0])\n",
    "\n",
    "#     test_auc = np.round(auc(test_fpr, test_tpr), 4)\n",
    "    precision = np.round(precision_score(y_test, y_pred, average='weighted'), 4)\n",
    "    recall = np.round(recall_score(y_test, y_pred, average='weighted'), 4)\n",
    "    f1 = np.round(f1_score(y_test, y_pred, average='weighted'), 4)\n",
    "    confusion = confusion_matrix(y_test, y_pred)\n",
    "    classification = classification_report(y_test, y_pred)\n",
    "    accuracy = np.round(accuracy_score(y_test, y_pred), 4)\n",
    "\n",
    "    print(\"Results summaries are\")\n",
    "    print()\n",
    "#     print(f\"Validation AUC is        : {test_auc}\")\n",
    "    print(f\"Test precision_score is  : {precision}\")\n",
    "    print(f\"Test recall_score is     : {recall}\")\n",
    "    print(f\"f1_score is              : {f1}\")\n",
    "    print(f\"Accuracy is              : {accuracy}\")\n",
    "    print(\"----------------------------------------\")\n",
    "    print(\"The Classification Report is\")\n",
    "    print()\n",
    "    print(classification)\n",
    "    print(\"----------------------------------------\")\n",
    "    print(\"And Confusion Matrix is\")\n",
    "    print()\n",
    "\n",
    "    \n",
    "    plot_confusion_matrix(model, X_test, y_test, \n",
    "                          display_labels=le.classes_,cmap=plt.cm.Blues)\n",
    "    plt.show()"
   ]
  },
  {
   "cell_type": "markdown",
   "metadata": {
    "heading_collapsed": true
   },
   "source": [
    "# Importing Data"
   ]
  },
  {
   "cell_type": "code",
   "execution_count": 33,
   "metadata": {
    "hidden": true
   },
   "outputs": [
    {
     "data": {
      "text/html": [
       "<div>\n",
       "<style scoped>\n",
       "    .dataframe tbody tr th:only-of-type {\n",
       "        vertical-align: middle;\n",
       "    }\n",
       "\n",
       "    .dataframe tbody tr th {\n",
       "        vertical-align: top;\n",
       "    }\n",
       "\n",
       "    .dataframe thead th {\n",
       "        text-align: right;\n",
       "    }\n",
       "</style>\n",
       "<table border=\"1\" class=\"dataframe\">\n",
       "  <thead>\n",
       "    <tr style=\"text-align: right;\">\n",
       "      <th></th>\n",
       "      <th>text</th>\n",
       "      <th>label</th>\n",
       "      <th>cleaned_text</th>\n",
       "      <th>lemmatized_text</th>\n",
       "      <th>neg</th>\n",
       "      <th>neu</th>\n",
       "      <th>pos</th>\n",
       "      <th>compound</th>\n",
       "    </tr>\n",
       "  </thead>\n",
       "  <tbody>\n",
       "    <tr>\n",
       "      <th>0</th>\n",
       "      <td>.@wesley83 I have a 3G iPhone. After 3 hrs twe...</td>\n",
       "      <td>neg</td>\n",
       "      <td>3g iphone hr tweeting rise_austin dead need up...</td>\n",
       "      <td>[3g, iphone, hr, tweeting, rise_austin, dead, ...</td>\n",
       "      <td>0.213</td>\n",
       "      <td>0.787</td>\n",
       "      <td>0.000</td>\n",
       "      <td>-0.6800</td>\n",
       "    </tr>\n",
       "    <tr>\n",
       "      <th>1</th>\n",
       "      <td>@jessedee Know about @fludapp ? Awesome iPad/i...</td>\n",
       "      <td>pos</td>\n",
       "      <td>know awesome ipad iphone app likely appreciate...</td>\n",
       "      <td>[know, awesome, ipad, iphone, app, likely, app...</td>\n",
       "      <td>0.000</td>\n",
       "      <td>0.545</td>\n",
       "      <td>0.455</td>\n",
       "      <td>0.9100</td>\n",
       "    </tr>\n",
       "    <tr>\n",
       "      <th>2</th>\n",
       "      <td>@swonderlin Can not wait for #iPad 2 also. The...</td>\n",
       "      <td>pos</td>\n",
       "      <td>wait ipad also sale</td>\n",
       "      <td>[wait, ipad, also, sale]</td>\n",
       "      <td>0.000</td>\n",
       "      <td>1.000</td>\n",
       "      <td>0.000</td>\n",
       "      <td>0.0000</td>\n",
       "    </tr>\n",
       "    <tr>\n",
       "      <th>3</th>\n",
       "      <td>@sxsw I hope this year's festival isn't as cra...</td>\n",
       "      <td>neg</td>\n",
       "      <td>hope year festival crashy year iphone app</td>\n",
       "      <td>[hope, year, festival, crashy, year, iphone, app]</td>\n",
       "      <td>0.000</td>\n",
       "      <td>0.643</td>\n",
       "      <td>0.357</td>\n",
       "      <td>0.7269</td>\n",
       "    </tr>\n",
       "    <tr>\n",
       "      <th>4</th>\n",
       "      <td>@sxtxstate great stuff on Fri #SXSW: Marissa M...</td>\n",
       "      <td>pos</td>\n",
       "      <td>great stuff fri marissa mayer google tim reill...</td>\n",
       "      <td>[great, stuff, fri, marissa, mayer, google, ti...</td>\n",
       "      <td>0.000</td>\n",
       "      <td>0.785</td>\n",
       "      <td>0.215</td>\n",
       "      <td>0.6249</td>\n",
       "    </tr>\n",
       "  </tbody>\n",
       "</table>\n",
       "</div>"
      ],
      "text/plain": [
       "                                                text label  \\\n",
       "0  .@wesley83 I have a 3G iPhone. After 3 hrs twe...   neg   \n",
       "1  @jessedee Know about @fludapp ? Awesome iPad/i...   pos   \n",
       "2  @swonderlin Can not wait for #iPad 2 also. The...   pos   \n",
       "3  @sxsw I hope this year's festival isn't as cra...   neg   \n",
       "4  @sxtxstate great stuff on Fri #SXSW: Marissa M...   pos   \n",
       "\n",
       "                                        cleaned_text  \\\n",
       "0  3g iphone hr tweeting rise_austin dead need up...   \n",
       "1  know awesome ipad iphone app likely appreciate...   \n",
       "2                                wait ipad also sale   \n",
       "3          hope year festival crashy year iphone app   \n",
       "4  great stuff fri marissa mayer google tim reill...   \n",
       "\n",
       "                                     lemmatized_text    neg    neu    pos  \\\n",
       "0  [3g, iphone, hr, tweeting, rise_austin, dead, ...  0.213  0.787  0.000   \n",
       "1  [know, awesome, ipad, iphone, app, likely, app...  0.000  0.545  0.455   \n",
       "2                           [wait, ipad, also, sale]  0.000  1.000  0.000   \n",
       "3  [hope, year, festival, crashy, year, iphone, app]  0.000  0.643  0.357   \n",
       "4  [great, stuff, fri, marissa, mayer, google, ti...  0.000  0.785  0.215   \n",
       "\n",
       "   compound  \n",
       "0   -0.6800  \n",
       "1    0.9100  \n",
       "2    0.0000  \n",
       "3    0.7269  \n",
       "4    0.6249  "
      ]
     },
     "execution_count": 33,
     "metadata": {},
     "output_type": "execute_result"
    }
   ],
   "source": [
    "data = pd.read_csv(\"EDA/cleaned_data/cleaned.csv\")\n",
    "data.drop(\"Unnamed: 0\", axis = 1, inplace = True)\n",
    "data[\"lemmatized_text\"] = data[\"lemmatized_text\"].apply(\n",
    "    lambda x: x.replace(\"[\", \"\").replace(\"]\", \"\").replace(\"'\", \"\").replace(\" \", \"\").split(\",\"))\n",
    "\n",
    "data[\"cleaned_text\"] = data[\"lemmatized_text\"].apply(lambda x: \" \".join(x))\n",
    "data.head()"
   ]
  },
  {
   "cell_type": "code",
   "execution_count": 34,
   "metadata": {
    "hidden": true
   },
   "outputs": [
    {
     "data": {
      "text/plain": [
       "['3g',\n",
       " 'iphone',\n",
       " 'hr',\n",
       " 'tweeting',\n",
       " 'rise_austin',\n",
       " 'dead',\n",
       " 'need',\n",
       " 'upgrade',\n",
       " 'plugin',\n",
       " 'station']"
      ]
     },
     "execution_count": 34,
     "metadata": {},
     "output_type": "execute_result"
    }
   ],
   "source": [
    "data.iloc[0].lemmatized_text"
   ]
  },
  {
   "cell_type": "markdown",
   "metadata": {
    "heading_collapsed": true
   },
   "source": [
    "# Train Test Split"
   ]
  },
  {
   "cell_type": "code",
   "execution_count": 35,
   "metadata": {
    "hidden": true
   },
   "outputs": [],
   "source": [
    "le = LabelEncoder()\n",
    "data[\"label_encoded\"] = le.fit_transform(data[\"label\"])\n",
    "\n",
    "df = data[[\"cleaned_text\", 'neg', 'neu', 'pos', 'compound']]\n",
    "y = data[\"label_encoded\"]\n",
    "\n",
    "\n",
    "X_train, X_test, y_train, y_test = train_test_split(df, y, test_size=0.33, random_state=42)\n",
    "\n",
    "num = ['neg', 'neu', 'pos', 'compound']\n",
    "text = [\"cleaned_text\"]\n",
    "\n",
    "X_num_train = X_train[num]\n",
    "X_num_test  = X_test[num]\n",
    "\n",
    "X_text_train = X_train[text]\n",
    "X_text_test  = X_test[text]"
   ]
  },
  {
   "cell_type": "code",
   "execution_count": 148,
   "metadata": {
    "hidden": true
   },
   "outputs": [
    {
     "data": {
      "text/plain": [
       "1    59.563290\n",
       "2    32.457725\n",
       "0     6.222295\n",
       "3     1.756690\n",
       "Name: label_encoded, dtype: float64"
      ]
     },
     "execution_count": 148,
     "metadata": {},
     "output_type": "execute_result"
    }
   ],
   "source": [
    "y_train.value_counts(normalize = True) * 100"
   ]
  },
  {
   "cell_type": "code",
   "execution_count": 149,
   "metadata": {
    "hidden": true
   },
   "outputs": [
    {
     "data": {
      "text/plain": [
       "1    58.647118\n",
       "2    33.355548\n",
       "0     6.364545\n",
       "3     1.632789\n",
       "Name: label_encoded, dtype: float64"
      ]
     },
     "execution_count": 149,
     "metadata": {},
     "output_type": "execute_result"
    }
   ],
   "source": [
    "y_test.value_counts(normalize = True) * 100"
   ]
  },
  {
   "cell_type": "markdown",
   "metadata": {},
   "source": [
    "# TF-IDF for word count and modeling"
   ]
  },
  {
   "cell_type": "markdown",
   "metadata": {
    "heading_collapsed": true
   },
   "source": [
    "## TF-IDF for word count"
   ]
  },
  {
   "cell_type": "code",
   "execution_count": 162,
   "metadata": {
    "hidden": true
   },
   "outputs": [],
   "source": [
    "tfidf = TfidfVectorizer(max_features=1000)\n",
    "X_train_tfidf = tfidf.fit_transform(X_train[\"cleaned_text\"])\n",
    "X_test_tfidf  = tfidf.transform(X_test[\"cleaned_text\"])\n",
    "\n",
    "\n",
    "X_train_tfidf_df = pd.DataFrame.sparse.from_spmatrix(X_train_tfidf, \n",
    "                                                     columns=tfidf.get_feature_names(),\n",
    "                                                    index = X_train.index)\n",
    "\n",
    "train_num = pd.concat([X_train_tfidf_df,X_train[num]], axis = 1)\n",
    "train = X_train_tfidf.copy()\n",
    "\n",
    "X_test_tfidf_df = pd.DataFrame.sparse.from_spmatrix(X_test_tfidf, \n",
    "                                                     columns=tfidf.get_feature_names(),\n",
    "                                                   index = X_test.index)\n",
    "\n",
    "test_num = pd.concat([X_test_tfidf_df,X_num_test], axis = 1)\n",
    "test = X_test_tfidf.copy()"
   ]
  },
  {
   "cell_type": "markdown",
   "metadata": {},
   "source": [
    "## Modeling for TF-IDF for word count."
   ]
  },
  {
   "cell_type": "markdown",
   "metadata": {
    "heading_collapsed": true
   },
   "source": [
    "### Naive Bayes"
   ]
  },
  {
   "cell_type": "markdown",
   "metadata": {
    "heading_collapsed": true,
    "hidden": true
   },
   "source": [
    "#### Only TF-IDF no other numerical Values"
   ]
  },
  {
   "cell_type": "code",
   "execution_count": 163,
   "metadata": {
    "hidden": true
   },
   "outputs": [
    {
     "name": "stdout",
     "output_type": "stream",
     "text": [
      "Results summaries are\n",
      "\n",
      "Test precision_score is  : 0.6406\n",
      "Test recall_score is     : 0.6448\n",
      "f1_score is              : 0.5939\n",
      "Accuracy is              : 0.6448\n",
      "----------------------------------------\n",
      "The Classification Report is\n",
      "\n",
      "              precision    recall  f1-score   support\n",
      "\n",
      "           0       0.86      0.03      0.06       191\n",
      "           1       0.65      0.90      0.76      1760\n",
      "           2       0.61      0.34      0.44      1001\n",
      "           3       0.00      0.00      0.00        49\n",
      "\n",
      "    accuracy                           0.64      3001\n",
      "   macro avg       0.53      0.32      0.31      3001\n",
      "weighted avg       0.64      0.64      0.59      3001\n",
      "\n",
      "----------------------------------------\n",
      "And Confusion Matrix is\n",
      "\n"
     ]
    },
    {
     "data": {
      "image/png": "[encoded data removed]",
      "text/plain": [
       "<Figure size 432x288 with 2 Axes>"
      ]
     },
     "metadata": {
      "needs_background": "light"
     },
     "output_type": "display_data"
    }
   ],
   "source": [
    "mb = MultinomialNB().fit(train, y_train)\n",
    "\n",
    "print_results(mb , y_test, test)\n",
    "# print_results(mb , y_train, train)"
   ]
  },
  {
   "cell_type": "markdown",
   "metadata": {
    "heading_collapsed": true,
    "hidden": true
   },
   "source": [
    "#### With Numerical Values"
   ]
  },
  {
   "cell_type": "code",
   "execution_count": 164,
   "metadata": {
    "hidden": true
   },
   "outputs": [
    {
     "name": "stdout",
     "output_type": "stream",
     "text": [
      "Results summaries are\n",
      "\n",
      "Test precision_score is  : 0.573\n",
      "Test recall_score is     : 0.3229\n",
      "f1_score is              : 0.3493\n",
      "Accuracy is              : 0.3229\n",
      "----------------------------------------\n",
      "The Classification Report is\n",
      "\n",
      "              precision    recall  f1-score   support\n",
      "\n",
      "           0       0.11      0.47      0.18       191\n",
      "           1       0.73      0.20      0.31      1760\n",
      "           2       0.41      0.52      0.46      1001\n",
      "           3       0.02      0.18      0.04        49\n",
      "\n",
      "    accuracy                           0.32      3001\n",
      "   macro avg       0.32      0.34      0.25      3001\n",
      "weighted avg       0.57      0.32      0.35      3001\n",
      "\n",
      "----------------------------------------\n",
      "And Confusion Matrix is\n",
      "\n"
     ]
    },
    {
     "data": {
      "image/png": "[encoded data removed]",
      "text/plain": [
       "<Figure size 432x288 with 2 Axes>"
      ]
     },
     "metadata": {
      "needs_background": "light"
     },
     "output_type": "display_data"
    }
   ],
   "source": [
    "mb_num = GaussianNB().fit(train_num, y_train)\n",
    "\n",
    "print_results(mb_num , y_test, test_num)"
   ]
  },
  {
   "cell_type": "markdown",
   "metadata": {
    "heading_collapsed": true
   },
   "source": [
    "### Logistic Regression"
   ]
  },
  {
   "cell_type": "markdown",
   "metadata": {
    "heading_collapsed": true,
    "hidden": true
   },
   "source": [
    "#### Only TF-IDF no other numerical Values"
   ]
  },
  {
   "cell_type": "code",
   "execution_count": 165,
   "metadata": {
    "hidden": true
   },
   "outputs": [
    {
     "name": "stdout",
     "output_type": "stream",
     "text": [
      "Results summaries are\n",
      "\n",
      "Test precision_score is  : 0.6332\n",
      "Test recall_score is     : 0.6195\n",
      "f1_score is              : 0.6229\n",
      "Accuracy is              : 0.6195\n",
      "----------------------------------------\n",
      "The Classification Report is\n",
      "\n",
      "              precision    recall  f1-score   support\n",
      "\n",
      "           0       0.28      0.39      0.33       191\n",
      "           1       0.71      0.75      0.73      1760\n",
      "           2       0.60      0.47      0.52      1001\n",
      "           3       0.02      0.04      0.03        49\n",
      "\n",
      "    accuracy                           0.62      3001\n",
      "   macro avg       0.40      0.41      0.40      3001\n",
      "weighted avg       0.63      0.62      0.62      3001\n",
      "\n",
      "----------------------------------------\n",
      "And Confusion Matrix is\n",
      "\n"
     ]
    },
    {
     "data": {
      "image/png": "[encoded data removed]",
      "text/plain": [
       "<Figure size 432x288 with 2 Axes>"
      ]
     },
     "metadata": {
      "needs_background": "light"
     },
     "output_type": "display_data"
    }
   ],
   "source": [
    "lr = LogisticRegression(class_weight = \"balanced\",\n",
    "                        solver='liblinear',\n",
    "                        random_state = 42).fit(train, y_train)\n",
    "\n",
    "\n",
    "print_results(lr , y_test, test)"
   ]
  },
  {
   "cell_type": "markdown",
   "metadata": {
    "heading_collapsed": true,
    "hidden": true
   },
   "source": [
    "#### With Numerical Values"
   ]
  },
  {
   "cell_type": "code",
   "execution_count": 166,
   "metadata": {
    "hidden": true
   },
   "outputs": [
    {
     "name": "stdout",
     "output_type": "stream",
     "text": [
      "Results summaries are\n",
      "\n",
      "Test precision_score is  : 0.6451\n",
      "Test recall_score is     : 0.6345\n",
      "f1_score is              : 0.6375\n",
      "Accuracy is              : 0.6345\n",
      "----------------------------------------\n",
      "The Classification Report is\n",
      "\n",
      "              precision    recall  f1-score   support\n",
      "\n",
      "           0       0.33      0.42      0.37       191\n",
      "           1       0.72      0.75      0.74      1760\n",
      "           2       0.60      0.50      0.55      1001\n",
      "           3       0.01      0.02      0.01        49\n",
      "\n",
      "    accuracy                           0.63      3001\n",
      "   macro avg       0.42      0.42      0.42      3001\n",
      "weighted avg       0.65      0.63      0.64      3001\n",
      "\n",
      "----------------------------------------\n",
      "And Confusion Matrix is\n",
      "\n"
     ]
    },
    {
     "data": {
      "image/png": "[encoded data removed]",
      "text/plain": [
       "<Figure size 432x288 with 2 Axes>"
      ]
     },
     "metadata": {
      "needs_background": "light"
     },
     "output_type": "display_data"
    }
   ],
   "source": [
    "lr_num = LogisticRegression(class_weight = \"balanced\",\n",
    "                        solver='liblinear',\n",
    "                        random_state = 42).fit(train_num, y_train)\n",
    "\n",
    "\n",
    "print_results(lr_num , y_test, test_num)"
   ]
  },
  {
   "cell_type": "markdown",
   "metadata": {
    "heading_collapsed": true
   },
   "source": [
    "### Decision Tree"
   ]
  },
  {
   "cell_type": "markdown",
   "metadata": {
    "heading_collapsed": true,
    "hidden": true
   },
   "source": [
    "#### Only TF-IDF no other numerical Values"
   ]
  },
  {
   "cell_type": "code",
   "execution_count": 167,
   "metadata": {
    "hidden": true
   },
   "outputs": [
    {
     "name": "stdout",
     "output_type": "stream",
     "text": [
      "Results summaries are\n",
      "\n",
      "Test precision_score is  : 0.6167\n",
      "Test recall_score is     : 0.3752\n",
      "f1_score is              : 0.4342\n",
      "Accuracy is              : 0.3752\n",
      "----------------------------------------\n",
      "The Classification Report is\n",
      "\n",
      "              precision    recall  f1-score   support\n",
      "\n",
      "           0       0.10      0.78      0.18       191\n",
      "           1       0.76      0.37      0.50      1760\n",
      "           2       0.49      0.32      0.39      1001\n",
      "           3       0.00      0.00      0.00        49\n",
      "\n",
      "    accuracy                           0.38      3001\n",
      "   macro avg       0.34      0.37      0.27      3001\n",
      "weighted avg       0.62      0.38      0.43      3001\n",
      "\n",
      "----------------------------------------\n",
      "And Confusion Matrix is\n",
      "\n"
     ]
    },
    {
     "data": {
      "image/png": "[encoded data removed]",
      "text/plain": [
       "<Figure size 432x288 with 2 Axes>"
      ]
     },
     "metadata": {
      "needs_background": "light"
     },
     "output_type": "display_data"
    }
   ],
   "source": [
    "tree_clf = DecisionTreeClassifier(class_weight = \"balanced\",\n",
    "                                  criterion = \"gini\",\n",
    "                                  max_depth = 20,\n",
    "                                  random_state = 42).fit(train, y_train)\n",
    "\n",
    "print_results(tree_clf, y_test, test)"
   ]
  },
  {
   "cell_type": "markdown",
   "metadata": {
    "heading_collapsed": true,
    "hidden": true
   },
   "source": [
    "#### With Numerical Values"
   ]
  },
  {
   "cell_type": "code",
   "execution_count": 168,
   "metadata": {
    "hidden": true
   },
   "outputs": [
    {
     "name": "stdout",
     "output_type": "stream",
     "text": [
      "Results summaries are\n",
      "\n",
      "Test precision_score is  : 0.5973\n",
      "Test recall_score is     : 0.5521\n",
      "f1_score is              : 0.569\n",
      "Accuracy is              : 0.5521\n",
      "----------------------------------------\n",
      "The Classification Report is\n",
      "\n",
      "              precision    recall  f1-score   support\n",
      "\n",
      "           0       0.22      0.50      0.30       191\n",
      "           1       0.71      0.61      0.66      1760\n",
      "           2       0.50      0.48      0.49      1001\n",
      "           3       0.03      0.04      0.03        49\n",
      "\n",
      "    accuracy                           0.55      3001\n",
      "   macro avg       0.36      0.41      0.37      3001\n",
      "weighted avg       0.60      0.55      0.57      3001\n",
      "\n",
      "----------------------------------------\n",
      "And Confusion Matrix is\n",
      "\n"
     ]
    },
    {
     "data": {
      "image/png": "[encoded data removed]",
      "text/plain": [
       "<Figure size 432x288 with 2 Axes>"
      ]
     },
     "metadata": {
      "needs_background": "light"
     },
     "output_type": "display_data"
    }
   ],
   "source": [
    "tree_clf_num = DecisionTreeClassifier(class_weight = \"balanced\",\n",
    "                                  criterion = \"gini\",\n",
    "                                  max_depth = 20,\n",
    "                                  random_state = 42).fit(train_num, y_train)\n",
    "\n",
    "print_results(tree_clf_num, y_test, test_num)"
   ]
  },
  {
   "cell_type": "markdown",
   "metadata": {
    "heading_collapsed": true
   },
   "source": [
    "### Random Forest"
   ]
  },
  {
   "cell_type": "markdown",
   "metadata": {
    "heading_collapsed": true,
    "hidden": true
   },
   "source": [
    "#### Only TF-IDF no other numerical Values"
   ]
  },
  {
   "cell_type": "code",
   "execution_count": 169,
   "metadata": {
    "hidden": true
   },
   "outputs": [
    {
     "name": "stdout",
     "output_type": "stream",
     "text": [
      "Results summaries are\n",
      "\n",
      "Test precision_score is  : 0.6366\n",
      "Test recall_score is     : 0.6551\n",
      "f1_score is              : 0.6264\n",
      "Accuracy is              : 0.6551\n",
      "----------------------------------------\n",
      "The Classification Report is\n",
      "\n",
      "              precision    recall  f1-score   support\n",
      "\n",
      "           0       0.58      0.21      0.31       191\n",
      "           1       0.67      0.86      0.75      1760\n",
      "           2       0.62      0.41      0.49      1001\n",
      "           3       0.00      0.00      0.00        49\n",
      "\n",
      "    accuracy                           0.66      3001\n",
      "   macro avg       0.47      0.37      0.39      3001\n",
      "weighted avg       0.64      0.66      0.63      3001\n",
      "\n",
      "----------------------------------------\n",
      "And Confusion Matrix is\n",
      "\n"
     ]
    },
    {
     "data": {
      "image/png": "[encoded data removed]",
      "text/plain": [
       "<Figure size 432x288 with 2 Axes>"
      ]
     },
     "metadata": {
      "needs_background": "light"
     },
     "output_type": "display_data"
    }
   ],
   "source": [
    "rf = RandomForestClassifier(criterion=\"entropy\",\n",
    "                            n_estimators=50,\n",
    "                            bootstrap = True,\n",
    "                            random_state = 42).fit(train, y_train)\n",
    "\n",
    "\n",
    "print_results(rf, y_test, test)"
   ]
  },
  {
   "cell_type": "markdown",
   "metadata": {
    "heading_collapsed": true,
    "hidden": true
   },
   "source": [
    "#### With Numerical Values"
   ]
  },
  {
   "cell_type": "code",
   "execution_count": 170,
   "metadata": {
    "hidden": true
   },
   "outputs": [
    {
     "name": "stdout",
     "output_type": "stream",
     "text": [
      "Results summaries are\n",
      "\n",
      "Test precision_score is  : 0.652\n",
      "Test recall_score is     : 0.6691\n",
      "f1_score is              : 0.6427\n",
      "Accuracy is              : 0.6691\n",
      "----------------------------------------\n",
      "The Classification Report is\n",
      "\n",
      "              precision    recall  f1-score   support\n",
      "\n",
      "           0       0.59      0.17      0.27       191\n",
      "           1       0.68      0.86      0.76      1760\n",
      "           2       0.64      0.47      0.54      1001\n",
      "           3       0.00      0.00      0.00        49\n",
      "\n",
      "    accuracy                           0.67      3001\n",
      "   macro avg       0.48      0.37      0.39      3001\n",
      "weighted avg       0.65      0.67      0.64      3001\n",
      "\n",
      "----------------------------------------\n",
      "And Confusion Matrix is\n",
      "\n"
     ]
    },
    {
     "data": {
      "image/png": "[encoded data removed]",
      "text/plain": [
       "<Figure size 432x288 with 2 Axes>"
      ]
     },
     "metadata": {
      "needs_background": "light"
     },
     "output_type": "display_data"
    }
   ],
   "source": [
    "rf_num = RandomForestClassifier(criterion=\"entropy\",\n",
    "                            n_estimators=50,\n",
    "                            bootstrap = True,\n",
    "                            random_state = 42).fit(train_num, y_train)\n",
    "\n",
    "\n",
    "print_results(rf_num, y_test, test_num)"
   ]
  },
  {
   "cell_type": "markdown",
   "metadata": {
    "heading_collapsed": true
   },
   "source": [
    "### XGBoost"
   ]
  },
  {
   "cell_type": "markdown",
   "metadata": {
    "heading_collapsed": true,
    "hidden": true
   },
   "source": [
    "#### Only TF-IDF no other numerical Values"
   ]
  },
  {
   "cell_type": "code",
   "execution_count": 175,
   "metadata": {
    "hidden": true
   },
   "outputs": [
    {
     "name": "stdout",
     "output_type": "stream",
     "text": [
      "Results summaries are\n",
      "\n",
      "Test precision_score is  : 0.6263\n",
      "Test recall_score is     : 0.6478\n",
      "f1_score is              : 0.6167\n",
      "Accuracy is              : 0.6478\n",
      "----------------------------------------\n",
      "The Classification Report is\n",
      "\n",
      "              precision    recall  f1-score   support\n",
      "\n",
      "           0       0.56      0.15      0.23       191\n",
      "           1       0.67      0.85      0.75      1760\n",
      "           2       0.60      0.41      0.49      1001\n",
      "           3       0.00      0.00      0.00        49\n",
      "\n",
      "    accuracy                           0.65      3001\n",
      "   macro avg       0.46      0.35      0.37      3001\n",
      "weighted avg       0.63      0.65      0.62      3001\n",
      "\n",
      "----------------------------------------\n",
      "And Confusion Matrix is\n",
      "\n"
     ]
    },
    {
     "data": {
      "image/png": "[encoded data removed]",
      "text/plain": [
       "<Figure size 432x288 with 2 Axes>"
      ]
     },
     "metadata": {
      "needs_background": "light"
     },
     "output_type": "display_data"
    }
   ],
   "source": [
    "clf_xgb = xgb.XGBClassifier(max_depth = 20, n_estimators= 20 , seed=42,\n",
    "#                         alpha = 10, \n",
    "                        objective = 'multi:softprob', \n",
    "                        eval_metric = \"auc\").fit(train, y_train)\n",
    "\n",
    "print_results(clf_xgb, y_test, test)"
   ]
  },
  {
   "cell_type": "markdown",
   "metadata": {
    "heading_collapsed": true,
    "hidden": true
   },
   "source": [
    "#### With Numerical Values"
   ]
  },
  {
   "cell_type": "code",
   "execution_count": 174,
   "metadata": {
    "hidden": true
   },
   "outputs": [
    {
     "name": "stdout",
     "output_type": "stream",
     "text": [
      "Results summaries are\n",
      "\n",
      "Test precision_score is  : 0.6393\n",
      "Test recall_score is     : 0.6628\n",
      "f1_score is              : 0.6412\n",
      "Accuracy is              : 0.6628\n",
      "----------------------------------------\n",
      "The Classification Report is\n",
      "\n",
      "              precision    recall  f1-score   support\n",
      "\n",
      "           0       0.47      0.19      0.27       191\n",
      "           1       0.69      0.83      0.75      1760\n",
      "           2       0.61      0.49      0.54      1001\n",
      "           3       0.00      0.00      0.00        49\n",
      "\n",
      "    accuracy                           0.66      3001\n",
      "   macro avg       0.44      0.38      0.39      3001\n",
      "weighted avg       0.64      0.66      0.64      3001\n",
      "\n",
      "----------------------------------------\n",
      "And Confusion Matrix is\n",
      "\n"
     ]
    },
    {
     "data": {
      "image/png": "[encoded data removed]",
      "text/plain": [
       "<Figure size 432x288 with 2 Axes>"
      ]
     },
     "metadata": {
      "needs_background": "light"
     },
     "output_type": "display_data"
    }
   ],
   "source": [
    "clf_xgb_num = xgb.XGBClassifier(max_depth = 20, n_estimators= 20 , seed=42,\n",
    "#                         alpha = 10, \n",
    "                        objective = 'multi:softprob', \n",
    "                        eval_metric = \"auc\").fit(train_num, y_train)\n",
    "\n",
    "print_results(clf_xgb_num, y_test, test_num)\n",
    "# print_results(clf_xgb_num, y_train, train_num)"
   ]
  },
  {
   "cell_type": "markdown",
   "metadata": {
    "heading_collapsed": true
   },
   "source": [
    "### LightGBM"
   ]
  },
  {
   "cell_type": "markdown",
   "metadata": {
    "heading_collapsed": true,
    "hidden": true
   },
   "source": [
    "#### Only TF-IDF no other numerical Values"
   ]
  },
  {
   "cell_type": "code",
   "execution_count": 189,
   "metadata": {
    "hidden": true
   },
   "outputs": [
    {
     "name": "stdout",
     "output_type": "stream",
     "text": [
      "[LightGBM] [Warning] Unknown parameter: eval_metric\n",
      "[LightGBM] [Warning] num_iterations is set=100, num_boost_round=100 will be ignored. Current value: num_iterations=100\n",
      "[LightGBM] [Warning] Accuracy may be bad since you didn't explicitly set num_leaves OR 2^max_depth > num_leaves. (num_leaves=31).\n",
      "[LightGBM] [Warning] Unknown parameter: eval_metric\n",
      "[LightGBM] [Warning] Accuracy may be bad since you didn't explicitly set num_leaves OR 2^max_depth > num_leaves. (num_leaves=31).\n",
      "[LightGBM] [Info] Total Bins 11240\n",
      "[LightGBM] [Info] Number of data points in the train set: 6091, number of used features: 465\n",
      "[LightGBM] [Warning] Unknown parameter: eval_metric\n",
      "[LightGBM] [Warning] num_iterations is set=100, num_boost_round=100 will be ignored. Current value: num_iterations=100\n",
      "[LightGBM] [Warning] Accuracy may be bad since you didn't explicitly set num_leaves OR 2^max_depth > num_leaves. (num_leaves=31).\n",
      "[LightGBM] [Info] Start training from score -1.386294\n",
      "[LightGBM] [Info] Start training from score -1.386294\n",
      "[LightGBM] [Info] Start training from score -1.386294\n",
      "[LightGBM] [Info] Start training from score -1.386294\n",
      "[1]\tvalid_0's multi_logloss: 1.37647\n",
      "[2]\tvalid_0's multi_logloss: 1.36681\n",
      "[3]\tvalid_0's multi_logloss: 1.35785\n",
      "[4]\tvalid_0's multi_logloss: 1.34913\n",
      "[5]\tvalid_0's multi_logloss: 1.34081\n",
      "[6]\tvalid_0's multi_logloss: 1.33299\n",
      "[7]\tvalid_0's multi_logloss: 1.32539\n",
      "[8]\tvalid_0's multi_logloss: 1.31864\n",
      "[9]\tvalid_0's multi_logloss: 1.31213\n",
      "[10]\tvalid_0's multi_logloss: 1.30551\n",
      "[11]\tvalid_0's multi_logloss: 1.29913\n",
      "[12]\tvalid_0's multi_logloss: 1.2928\n",
      "[13]\tvalid_0's multi_logloss: 1.28686\n",
      "[14]\tvalid_0's multi_logloss: 1.28076\n",
      "[15]\tvalid_0's multi_logloss: 1.27548\n",
      "[16]\tvalid_0's multi_logloss: 1.27045\n",
      "[17]\tvalid_0's multi_logloss: 1.26537\n",
      "[18]\tvalid_0's multi_logloss: 1.2603\n",
      "[19]\tvalid_0's multi_logloss: 1.25609\n",
      "[20]\tvalid_0's multi_logloss: 1.25144\n",
      "[21]\tvalid_0's multi_logloss: 1.24715\n",
      "[22]\tvalid_0's multi_logloss: 1.24311\n",
      "[23]\tvalid_0's multi_logloss: 1.23901\n",
      "[24]\tvalid_0's multi_logloss: 1.23508\n",
      "[25]\tvalid_0's multi_logloss: 1.23145\n",
      "[26]\tvalid_0's multi_logloss: 1.22747\n",
      "[27]\tvalid_0's multi_logloss: 1.2239\n",
      "[28]\tvalid_0's multi_logloss: 1.22064\n",
      "[29]\tvalid_0's multi_logloss: 1.2175\n",
      "[30]\tvalid_0's multi_logloss: 1.21426\n",
      "[31]\tvalid_0's multi_logloss: 1.21097\n",
      "[32]\tvalid_0's multi_logloss: 1.20778\n",
      "[33]\tvalid_0's multi_logloss: 1.20473\n",
      "[34]\tvalid_0's multi_logloss: 1.20146\n",
      "[35]\tvalid_0's multi_logloss: 1.19842\n",
      "[36]\tvalid_0's multi_logloss: 1.1956\n",
      "[37]\tvalid_0's multi_logloss: 1.19273\n",
      "[38]\tvalid_0's multi_logloss: 1.18973\n",
      "[39]\tvalid_0's multi_logloss: 1.18673\n",
      "[40]\tvalid_0's multi_logloss: 1.18434\n",
      "[41]\tvalid_0's multi_logloss: 1.18183\n",
      "[42]\tvalid_0's multi_logloss: 1.1792\n",
      "[43]\tvalid_0's multi_logloss: 1.17624\n",
      "[44]\tvalid_0's multi_logloss: 1.17367\n",
      "[45]\tvalid_0's multi_logloss: 1.17098\n",
      "[46]\tvalid_0's multi_logloss: 1.16848\n",
      "[47]\tvalid_0's multi_logloss: 1.16597\n",
      "[48]\tvalid_0's multi_logloss: 1.16317\n",
      "[49]\tvalid_0's multi_logloss: 1.16072\n",
      "[50]\tvalid_0's multi_logloss: 1.15832\n",
      "[51]\tvalid_0's multi_logloss: 1.15579\n",
      "[52]\tvalid_0's multi_logloss: 1.1537\n",
      "[53]\tvalid_0's multi_logloss: 1.15126\n",
      "[54]\tvalid_0's multi_logloss: 1.14934\n",
      "[55]\tvalid_0's multi_logloss: 1.14716\n",
      "[56]\tvalid_0's multi_logloss: 1.14534\n",
      "[57]\tvalid_0's multi_logloss: 1.14338\n",
      "[58]\tvalid_0's multi_logloss: 1.1415\n",
      "[59]\tvalid_0's multi_logloss: 1.13922\n",
      "[60]\tvalid_0's multi_logloss: 1.13712\n",
      "[61]\tvalid_0's multi_logloss: 1.13495\n",
      "[62]\tvalid_0's multi_logloss: 1.1331\n",
      "[63]\tvalid_0's multi_logloss: 1.13099\n",
      "[64]\tvalid_0's multi_logloss: 1.1289\n",
      "[65]\tvalid_0's multi_logloss: 1.12696\n",
      "[66]\tvalid_0's multi_logloss: 1.12508\n",
      "[67]\tvalid_0's multi_logloss: 1.12321\n",
      "[68]\tvalid_0's multi_logloss: 1.12129\n",
      "[69]\tvalid_0's multi_logloss: 1.11938\n",
      "[70]\tvalid_0's multi_logloss: 1.11734\n",
      "[71]\tvalid_0's multi_logloss: 1.11557\n",
      "[72]\tvalid_0's multi_logloss: 1.11396\n",
      "[73]\tvalid_0's multi_logloss: 1.11198\n",
      "[74]\tvalid_0's multi_logloss: 1.11017\n",
      "[75]\tvalid_0's multi_logloss: 1.10831\n",
      "[76]\tvalid_0's multi_logloss: 1.10661\n",
      "[77]\tvalid_0's multi_logloss: 1.10483\n",
      "[78]\tvalid_0's multi_logloss: 1.10321\n",
      "[79]\tvalid_0's multi_logloss: 1.10167\n",
      "[80]\tvalid_0's multi_logloss: 1.09994\n",
      "[81]\tvalid_0's multi_logloss: 1.09827\n",
      "[82]\tvalid_0's multi_logloss: 1.09688\n",
      "[83]\tvalid_0's multi_logloss: 1.0954\n",
      "[84]\tvalid_0's multi_logloss: 1.09384\n",
      "[85]\tvalid_0's multi_logloss: 1.09241\n",
      "[86]\tvalid_0's multi_logloss: 1.09075\n",
      "[87]\tvalid_0's multi_logloss: 1.08941\n",
      "[88]\tvalid_0's multi_logloss: 1.08793\n",
      "[89]\tvalid_0's multi_logloss: 1.0865\n",
      "[90]\tvalid_0's multi_logloss: 1.08498\n",
      "[91]\tvalid_0's multi_logloss: 1.08368\n",
      "[92]\tvalid_0's multi_logloss: 1.08245\n",
      "[93]\tvalid_0's multi_logloss: 1.08123\n",
      "[94]\tvalid_0's multi_logloss: 1.07975\n",
      "[95]\tvalid_0's multi_logloss: 1.07867\n",
      "[96]\tvalid_0's multi_logloss: 1.07746\n",
      "[97]\tvalid_0's multi_logloss: 1.07624\n",
      "[98]\tvalid_0's multi_logloss: 1.07498\n",
      "[99]\tvalid_0's multi_logloss: 1.07409\n",
      "[100]\tvalid_0's multi_logloss: 1.07283\n"
     ]
    }
   ],
   "source": [
    "# num_boost_round=100\n",
    "params = {'num_boost_round':100,\n",
    "        'learning_rate':0.02,\n",
    "        'objective' : 'multiclass',\n",
    "        'num_class' : 4,\n",
    "        'max_depth':20,\n",
    "#         'eval_metric':'AUC',\n",
    "        'eval_metric':\"cross_entropy\",\n",
    "        'verbose':1,\n",
    "#         'od_type':\"Iter\", # overfit detector\n",
    "#         'od_wait':500, # most recent best iteration to wait before stopping\n",
    "        'random_seed': 42,\n",
    "        'class_weight' :  'balanced',\n",
    "        'force_row_wise' : True\n",
    "          }\n",
    "\n",
    "lgb_model = lgb.LGBMClassifier(**params)\n",
    "lgb_model.fit(train, y_train, eval_metric = \"logloss\",  \n",
    "          eval_set=(test, y_test));"
   ]
  },
  {
   "cell_type": "code",
   "execution_count": 190,
   "metadata": {
    "hidden": true
   },
   "outputs": [
    {
     "name": "stdout",
     "output_type": "stream",
     "text": [
      "Results summaries are\n",
      "\n",
      "Test precision_score is  : 0.6172\n",
      "Test recall_score is     : 0.5215\n",
      "f1_score is              : 0.5572\n",
      "Accuracy is              : 0.5215\n",
      "----------------------------------------\n",
      "The Classification Report is\n",
      "\n",
      "              precision    recall  f1-score   support\n",
      "\n",
      "           0       0.16      0.47      0.24       191\n",
      "           1       0.73      0.55      0.63      1760\n",
      "           2       0.54      0.50      0.52      1001\n",
      "           3       0.02      0.08      0.03        49\n",
      "\n",
      "    accuracy                           0.52      3001\n",
      "   macro avg       0.36      0.40      0.36      3001\n",
      "weighted avg       0.62      0.52      0.56      3001\n",
      "\n",
      "----------------------------------------\n",
      "And Confusion Matrix is\n",
      "\n"
     ]
    },
    {
     "data": {
      "image/png": "[encoded data removed]",
      "text/plain": [
       "<Figure size 432x288 with 2 Axes>"
      ]
     },
     "metadata": {
      "needs_background": "light"
     },
     "output_type": "display_data"
    }
   ],
   "source": [
    "print_results(lgb_model, y_test, test)"
   ]
  },
  {
   "cell_type": "markdown",
   "metadata": {
    "heading_collapsed": true,
    "hidden": true
   },
   "source": [
    "#### With Numerical Values"
   ]
  },
  {
   "cell_type": "code",
   "execution_count": 188,
   "metadata": {
    "hidden": true
   },
   "outputs": [
    {
     "name": "stdout",
     "output_type": "stream",
     "text": [
      "[LightGBM] [Warning] Unknown parameter: eval_metric\n",
      "[LightGBM] [Warning] num_iterations is set=100, num_boost_round=100 will be ignored. Current value: num_iterations=100\n",
      "[LightGBM] [Warning] Accuracy may be bad since you didn't explicitly set num_leaves OR 2^max_depth > num_leaves. (num_leaves=31).\n",
      "[LightGBM] [Warning] Unknown parameter: eval_metric\n",
      "[LightGBM] [Warning] Accuracy may be bad since you didn't explicitly set num_leaves OR 2^max_depth > num_leaves. (num_leaves=31).\n",
      "[LightGBM] [Info] Total Bins 12233\n",
      "[LightGBM] [Info] Number of data points in the train set: 6091, number of used features: 469\n",
      "[LightGBM] [Warning] Unknown parameter: eval_metric\n",
      "[LightGBM] [Warning] num_iterations is set=100, num_boost_round=100 will be ignored. Current value: num_iterations=100\n",
      "[LightGBM] [Warning] Accuracy may be bad since you didn't explicitly set num_leaves OR 2^max_depth > num_leaves. (num_leaves=31).\n",
      "[LightGBM] [Info] Start training from score -1.386294\n",
      "[LightGBM] [Info] Start training from score -1.386294\n",
      "[LightGBM] [Info] Start training from score -1.386294\n",
      "[LightGBM] [Info] Start training from score -1.386294\n",
      "[1]\tvalid_0's multi_logloss: 1.37569\n",
      "[2]\tvalid_0's multi_logloss: 1.36547\n",
      "[3]\tvalid_0's multi_logloss: 1.35569\n",
      "[4]\tvalid_0's multi_logloss: 1.34633\n",
      "[5]\tvalid_0's multi_logloss: 1.33712\n",
      "[6]\tvalid_0's multi_logloss: 1.3287\n",
      "[7]\tvalid_0's multi_logloss: 1.32033\n",
      "[8]\tvalid_0's multi_logloss: 1.31261\n",
      "[9]\tvalid_0's multi_logloss: 1.30515\n",
      "[10]\tvalid_0's multi_logloss: 1.2977\n",
      "[11]\tvalid_0's multi_logloss: 1.29\n",
      "[12]\tvalid_0's multi_logloss: 1.28312\n",
      "[13]\tvalid_0's multi_logloss: 1.27646\n",
      "[14]\tvalid_0's multi_logloss: 1.27018\n",
      "[15]\tvalid_0's multi_logloss: 1.26397\n",
      "[16]\tvalid_0's multi_logloss: 1.25824\n",
      "[17]\tvalid_0's multi_logloss: 1.25247\n",
      "[18]\tvalid_0's multi_logloss: 1.24693\n",
      "[19]\tvalid_0's multi_logloss: 1.24139\n",
      "[20]\tvalid_0's multi_logloss: 1.2363\n",
      "[21]\tvalid_0's multi_logloss: 1.23159\n",
      "[22]\tvalid_0's multi_logloss: 1.22571\n",
      "[23]\tvalid_0's multi_logloss: 1.22053\n",
      "[24]\tvalid_0's multi_logloss: 1.2153\n",
      "[25]\tvalid_0's multi_logloss: 1.21045\n",
      "[26]\tvalid_0's multi_logloss: 1.20552\n",
      "[27]\tvalid_0's multi_logloss: 1.20088\n",
      "[28]\tvalid_0's multi_logloss: 1.19639\n",
      "[29]\tvalid_0's multi_logloss: 1.19258\n",
      "[30]\tvalid_0's multi_logloss: 1.18868\n",
      "[31]\tvalid_0's multi_logloss: 1.18472\n",
      "[32]\tvalid_0's multi_logloss: 1.18119\n",
      "[33]\tvalid_0's multi_logloss: 1.17742\n",
      "[34]\tvalid_0's multi_logloss: 1.17331\n",
      "[35]\tvalid_0's multi_logloss: 1.16942\n",
      "[36]\tvalid_0's multi_logloss: 1.16545\n",
      "[37]\tvalid_0's multi_logloss: 1.16166\n",
      "[38]\tvalid_0's multi_logloss: 1.15826\n",
      "[39]\tvalid_0's multi_logloss: 1.15484\n",
      "[40]\tvalid_0's multi_logloss: 1.15117\n",
      "[41]\tvalid_0's multi_logloss: 1.1477\n",
      "[42]\tvalid_0's multi_logloss: 1.14444\n",
      "[43]\tvalid_0's multi_logloss: 1.14131\n",
      "[44]\tvalid_0's multi_logloss: 1.13833\n",
      "[45]\tvalid_0's multi_logloss: 1.13514\n",
      "[46]\tvalid_0's multi_logloss: 1.13215\n",
      "[47]\tvalid_0's multi_logloss: 1.12946\n",
      "[48]\tvalid_0's multi_logloss: 1.12678\n",
      "[49]\tvalid_0's multi_logloss: 1.12373\n",
      "[50]\tvalid_0's multi_logloss: 1.12115\n",
      "[51]\tvalid_0's multi_logloss: 1.11857\n",
      "[52]\tvalid_0's multi_logloss: 1.11607\n",
      "[53]\tvalid_0's multi_logloss: 1.11382\n",
      "[54]\tvalid_0's multi_logloss: 1.11142\n",
      "[55]\tvalid_0's multi_logloss: 1.10922\n",
      "[56]\tvalid_0's multi_logloss: 1.10725\n",
      "[57]\tvalid_0's multi_logloss: 1.10487\n",
      "[58]\tvalid_0's multi_logloss: 1.10267\n",
      "[59]\tvalid_0's multi_logloss: 1.1008\n",
      "[60]\tvalid_0's multi_logloss: 1.09878\n",
      "[61]\tvalid_0's multi_logloss: 1.09695\n",
      "[62]\tvalid_0's multi_logloss: 1.09487\n",
      "[63]\tvalid_0's multi_logloss: 1.09299\n",
      "[64]\tvalid_0's multi_logloss: 1.09097\n",
      "[65]\tvalid_0's multi_logloss: 1.0888\n",
      "[66]\tvalid_0's multi_logloss: 1.08692\n",
      "[67]\tvalid_0's multi_logloss: 1.08521\n",
      "[68]\tvalid_0's multi_logloss: 1.08342\n",
      "[69]\tvalid_0's multi_logloss: 1.08133\n",
      "[70]\tvalid_0's multi_logloss: 1.07964\n",
      "[71]\tvalid_0's multi_logloss: 1.07777\n",
      "[72]\tvalid_0's multi_logloss: 1.076\n",
      "[73]\tvalid_0's multi_logloss: 1.07412\n",
      "[74]\tvalid_0's multi_logloss: 1.07223\n",
      "[75]\tvalid_0's multi_logloss: 1.07058\n",
      "[76]\tvalid_0's multi_logloss: 1.06879\n",
      "[77]\tvalid_0's multi_logloss: 1.06718\n",
      "[78]\tvalid_0's multi_logloss: 1.06574\n",
      "[79]\tvalid_0's multi_logloss: 1.06427\n",
      "[80]\tvalid_0's multi_logloss: 1.06255\n",
      "[81]\tvalid_0's multi_logloss: 1.06098\n",
      "[82]\tvalid_0's multi_logloss: 1.05952\n",
      "[83]\tvalid_0's multi_logloss: 1.05796\n",
      "[84]\tvalid_0's multi_logloss: 1.05649\n",
      "[85]\tvalid_0's multi_logloss: 1.05477\n",
      "[86]\tvalid_0's multi_logloss: 1.05334\n",
      "[87]\tvalid_0's multi_logloss: 1.05201\n",
      "[88]\tvalid_0's multi_logloss: 1.05042\n",
      "[89]\tvalid_0's multi_logloss: 1.04878\n",
      "[90]\tvalid_0's multi_logloss: 1.04735\n",
      "[91]\tvalid_0's multi_logloss: 1.04617\n",
      "[92]\tvalid_0's multi_logloss: 1.04461\n",
      "[93]\tvalid_0's multi_logloss: 1.04304\n",
      "[94]\tvalid_0's multi_logloss: 1.04145\n",
      "[95]\tvalid_0's multi_logloss: 1.03978\n",
      "[96]\tvalid_0's multi_logloss: 1.03839\n",
      "[97]\tvalid_0's multi_logloss: 1.03677\n",
      "[98]\tvalid_0's multi_logloss: 1.03517\n",
      "[99]\tvalid_0's multi_logloss: 1.03373\n",
      "[100]\tvalid_0's multi_logloss: 1.03244\n"
     ]
    }
   ],
   "source": [
    "# num_boost_round=100\n",
    "params = {'num_boost_round':100,\n",
    "        'learning_rate':0.02,\n",
    "        'objective' : 'multiclass',\n",
    "        'num_class' : 4,  \n",
    "        'max_depth':20,\n",
    "#         'eval_metric':'AUC',\n",
    "        'eval_metric':\"cross_entropy\",\n",
    "        'verbose':1,\n",
    "#         'od_type':\"Iter\", # overfit detector\n",
    "#         'od_wait':500, # most recent best iteration to wait before stopping\n",
    "        'random_seed': 42,\n",
    "        'class_weight' :  'balanced',\n",
    "        'force_row_wise' : True\n",
    "          }\n",
    "\n",
    "lgb_model_num = lgb.LGBMClassifier(**params)\n",
    "lgb_model_num.fit(train_num, y_train, eval_metric = \"logloss\",  \n",
    "          eval_set=(test_num, y_test));"
   ]
  },
  {
   "cell_type": "code",
   "execution_count": 187,
   "metadata": {
    "hidden": true
   },
   "outputs": [
    {
     "name": "stdout",
     "output_type": "stream",
     "text": [
      "Results summaries are\n",
      "\n",
      "Test precision_score is  : 0.6345\n",
      "Test recall_score is     : 0.5678\n",
      "f1_score is              : 0.5929\n",
      "Accuracy is              : 0.5678\n",
      "----------------------------------------\n",
      "The Classification Report is\n",
      "\n",
      "              precision    recall  f1-score   support\n",
      "\n",
      "           0       0.23      0.53      0.32       191\n",
      "           1       0.75      0.61      0.67      1760\n",
      "           2       0.55      0.53      0.54      1001\n",
      "           3       0.03      0.10      0.05        49\n",
      "\n",
      "    accuracy                           0.57      3001\n",
      "   macro avg       0.39      0.44      0.39      3001\n",
      "weighted avg       0.63      0.57      0.59      3001\n",
      "\n",
      "----------------------------------------\n",
      "And Confusion Matrix is\n",
      "\n"
     ]
    },
    {
     "data": {
      "image/png": "[encoded data removed]",
      "text/plain": [
       "<Figure size 432x288 with 2 Axes>"
      ]
     },
     "metadata": {
      "needs_background": "light"
     },
     "output_type": "display_data"
    }
   ],
   "source": [
    "print_results(lgb_model_num, y_test, test_num)"
   ]
  },
  {
   "cell_type": "markdown",
   "metadata": {
    "heading_collapsed": true
   },
   "source": [
    "## Creating Samples with SMOTE()"
   ]
  },
  {
   "cell_type": "code",
   "execution_count": 191,
   "metadata": {
    "hidden": true
   },
   "outputs": [],
   "source": [
    "smote = SMOTE()\n",
    "train_num_smote, y_train_smote = smote.fit_resample(train_num, y_train)"
   ]
  },
  {
   "cell_type": "code",
   "execution_count": 193,
   "metadata": {
    "hidden": true
   },
   "outputs": [
    {
     "data": {
      "text/plain": [
       "1    0.25\n",
       "2    0.25\n",
       "0    0.25\n",
       "3    0.25\n",
       "Name: label_encoded, dtype: float64"
      ]
     },
     "execution_count": 193,
     "metadata": {},
     "output_type": "execute_result"
    }
   ],
   "source": [
    "y_train_smote.value_counts(normalize = True)"
   ]
  },
  {
   "cell_type": "code",
   "execution_count": null,
   "metadata": {
    "hidden": true
   },
   "outputs": [],
   "source": []
  }
 ],
 "metadata": {
  "kernelspec": {
   "display_name": "Python (learn-env)",
   "language": "python",
   "name": "learn-env"
  },
  "language_info": {
   "codemirror_mode": {
    "name": "ipython",
    "version": 3
   },
   "file_extension": ".py",
   "mimetype": "text/x-python",
   "name": "python",
   "nbconvert_exporter": "python",
   "pygments_lexer": "ipython3",
   "version": "3.8.5"
  },
  "latex_envs": {
   "LaTeX_envs_menu_present": true,
   "autoclose": false,
   "autocomplete": true,
   "bibliofile": "biblio.bib",
   "cite_by": "apalike",
   "current_citInitial": 1,
   "eqLabelWithNumbers": true,
   "eqNumInitial": 1,
   "hotkeys": {
    "equation": "Ctrl-E",
    "itemize": "Ctrl-I"
   },
   "labels_anchors": false,
   "latex_user_defs": false,
   "report_style_numbering": false,
   "user_envs_cfg": false
  },
  "toc": {
   "base_numbering": 1,
   "nav_menu": {},
   "number_sections": true,
   "sideBar": true,
   "skip_h1_title": false,
   "title_cell": "Table of Contents",
   "title_sidebar": "Contents",
   "toc_cell": false,
   "toc_position": {},
   "toc_section_display": true,
   "toc_window_display": false
  },
  "varInspector": {
   "cols": {
    "lenName": 16,
    "lenType": 16,
    "lenVar": 40
   },
   "kernels_config": {
    "python": {
     "delete_cmd_postfix": "",
     "delete_cmd_prefix": "del ",
     "library": "var_list.py",
     "varRefreshCmd": "print(var_dic_list())"
    },
    "r": {
     "delete_cmd_postfix": ") ",
     "delete_cmd_prefix": "rm(",
     "library": "var_list.r",
     "varRefreshCmd": "cat(var_dic_list()) "
    }
   },
   "types_to_exclude": [
    "module",
    "function",
    "builtin_function_or_method",
    "instance",
    "_Feature"
   ],
   "window_display": false
  }
 },
 "nbformat": 4,
 "nbformat_minor": 4
}
