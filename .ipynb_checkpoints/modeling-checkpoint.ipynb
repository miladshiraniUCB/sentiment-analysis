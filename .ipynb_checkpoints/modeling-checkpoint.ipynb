{
 "cells": [
  {
   "cell_type": "markdown",
   "metadata": {
    "heading_collapsed": true
   },
   "source": [
    "# Loading Libraries"
   ]
  },
  {
   "cell_type": "code",
   "execution_count": 40,
   "metadata": {
    "hidden": true
   },
   "outputs": [],
   "source": [
    "import numpy as np\n",
    "import pandas as pd\n",
    "\n",
    "# import nltk\n",
    "# from nltk import FreqDist\n",
    "\n",
    "import seaborn as sns\n",
    "import matplotlib.pyplot as plt\n",
    "from matplotlib.ticker import MaxNLocator\n",
    "\n",
    "from sklearn.feature_extraction.text import TfidfVectorizer\n",
    "from sklearn.model_selection import GridSearchCV, train_test_split\n",
    "from sklearn.metrics import confusion_matrix, roc_curve, auc, plot_roc_curve\n",
    "from sklearn.metrics import f1_score, precision_score, recall_score\n",
    "from sklearn.metrics import classification_report, accuracy_score\n",
    "from sklearn.metrics import plot_confusion_matrix\n",
    "from sklearn.preprocessing import LabelEncoder\n",
    "\n",
    "from sklearn.naive_bayes import MultinomialNB\n",
    "from sklearn.linear_model import LogisticRegression\n",
    "from sklearn.ensemble import RandomForestClassifier\n",
    "from sklearn.tree import DecisionTreeClassifier\n",
    "import xgboost as xgb\n",
    "import lightgbm as lgb\n",
    "\n",
    "\n",
    "\n",
    "\n",
    "import warnings\n",
    "warnings.filterwarnings('ignore')"
   ]
  },
  {
   "cell_type": "markdown",
   "metadata": {
    "heading_collapsed": true
   },
   "source": [
    "# Functions We Use"
   ]
  },
  {
   "cell_type": "code",
   "execution_count": 51,
   "metadata": {
    "hidden": true
   },
   "outputs": [],
   "source": [
    "def print_results(model, y_test, X_test):\n",
    "\n",
    "  ### This Function prints AUC score, f1 score, recall and precision scores.\n",
    "  \n",
    "    y_pred = model.predict(X_test)\n",
    "    y_pred_proba = model.predict_proba(X_test)\n",
    "    \n",
    "#     test_fpr , test_tpr , test_thresh = roc_curve(y_test, y_pred_proba[:,0])\n",
    "\n",
    "#     test_auc = np.round(auc(test_fpr, test_tpr), 4)\n",
    "#     precision = np.round(precision_score(y_test, y_pred), 4)\n",
    "#     recall = np.round(recall_score(y_test, y_pred), 4)\n",
    "#     f1 = np.round(f1_score(y_test, y_pred), 4)\n",
    "    confusion = confusion_matrix(y_test, y_pred)\n",
    "    classification = classification_report(y_test, y_pred)\n",
    "    accuracy = accuracy_score(y_test, y_pred)\n",
    "\n",
    "    print(\"Results summaries are\")\n",
    "    print()\n",
    "#     print(f\"Validation AUC is        : {test_auc}\")\n",
    "#     print(f\"Test precision_score is  : {precision}\")\n",
    "#     print(f\"Test recall_score is     : {recall}\")\n",
    "#     print(f\"f1_score is              : {f1}\")\n",
    "    print(f\"Accuracy is              : {accuracy}\")\n",
    "    print(\"----------------------------------------\")\n",
    "    print(\"The Classification Report is\")\n",
    "    print()\n",
    "    print(classification)\n",
    "    print(\"----------------------------------------\")\n",
    "    print(\"And Confusion Matrix is\")\n",
    "    print()\n",
    "#     print(confusion)\n",
    "    \n",
    "    plot_confusion_matrix(model, X_test, y_test,cmap=plt.cm.Blues)\n",
    "    plt.show()"
   ]
  },
  {
   "cell_type": "markdown",
   "metadata": {
    "heading_collapsed": true
   },
   "source": [
    "# Importing Data"
   ]
  },
  {
   "cell_type": "code",
   "execution_count": 33,
   "metadata": {
    "hidden": true
   },
   "outputs": [
    {
     "data": {
      "text/html": [
       "<div>\n",
       "<style scoped>\n",
       "    .dataframe tbody tr th:only-of-type {\n",
       "        vertical-align: middle;\n",
       "    }\n",
       "\n",
       "    .dataframe tbody tr th {\n",
       "        vertical-align: top;\n",
       "    }\n",
       "\n",
       "    .dataframe thead th {\n",
       "        text-align: right;\n",
       "    }\n",
       "</style>\n",
       "<table border=\"1\" class=\"dataframe\">\n",
       "  <thead>\n",
       "    <tr style=\"text-align: right;\">\n",
       "      <th></th>\n",
       "      <th>text</th>\n",
       "      <th>label</th>\n",
       "      <th>cleaned_text</th>\n",
       "      <th>lemmatized_text</th>\n",
       "      <th>neg</th>\n",
       "      <th>neu</th>\n",
       "      <th>pos</th>\n",
       "      <th>compound</th>\n",
       "    </tr>\n",
       "  </thead>\n",
       "  <tbody>\n",
       "    <tr>\n",
       "      <th>0</th>\n",
       "      <td>.@wesley83 I have a 3G iPhone. After 3 hrs twe...</td>\n",
       "      <td>neg</td>\n",
       "      <td>3g iphone hr tweeting rise_austin dead need up...</td>\n",
       "      <td>[3g, iphone, hr, tweeting, rise_austin, dead, ...</td>\n",
       "      <td>0.213</td>\n",
       "      <td>0.787</td>\n",
       "      <td>0.000</td>\n",
       "      <td>-0.6800</td>\n",
       "    </tr>\n",
       "    <tr>\n",
       "      <th>1</th>\n",
       "      <td>@jessedee Know about @fludapp ? Awesome iPad/i...</td>\n",
       "      <td>pos</td>\n",
       "      <td>know awesome ipad iphone app likely appreciate...</td>\n",
       "      <td>[know, awesome, ipad, iphone, app, likely, app...</td>\n",
       "      <td>0.000</td>\n",
       "      <td>0.545</td>\n",
       "      <td>0.455</td>\n",
       "      <td>0.9100</td>\n",
       "    </tr>\n",
       "    <tr>\n",
       "      <th>2</th>\n",
       "      <td>@swonderlin Can not wait for #iPad 2 also. The...</td>\n",
       "      <td>pos</td>\n",
       "      <td>wait ipad also sale</td>\n",
       "      <td>[wait, ipad, also, sale]</td>\n",
       "      <td>0.000</td>\n",
       "      <td>1.000</td>\n",
       "      <td>0.000</td>\n",
       "      <td>0.0000</td>\n",
       "    </tr>\n",
       "    <tr>\n",
       "      <th>3</th>\n",
       "      <td>@sxsw I hope this year's festival isn't as cra...</td>\n",
       "      <td>neg</td>\n",
       "      <td>hope year festival crashy year iphone app</td>\n",
       "      <td>[hope, year, festival, crashy, year, iphone, app]</td>\n",
       "      <td>0.000</td>\n",
       "      <td>0.643</td>\n",
       "      <td>0.357</td>\n",
       "      <td>0.7269</td>\n",
       "    </tr>\n",
       "    <tr>\n",
       "      <th>4</th>\n",
       "      <td>@sxtxstate great stuff on Fri #SXSW: Marissa M...</td>\n",
       "      <td>pos</td>\n",
       "      <td>great stuff fri marissa mayer google tim reill...</td>\n",
       "      <td>[great, stuff, fri, marissa, mayer, google, ti...</td>\n",
       "      <td>0.000</td>\n",
       "      <td>0.785</td>\n",
       "      <td>0.215</td>\n",
       "      <td>0.6249</td>\n",
       "    </tr>\n",
       "  </tbody>\n",
       "</table>\n",
       "</div>"
      ],
      "text/plain": [
       "                                                text label  \\\n",
       "0  .@wesley83 I have a 3G iPhone. After 3 hrs twe...   neg   \n",
       "1  @jessedee Know about @fludapp ? Awesome iPad/i...   pos   \n",
       "2  @swonderlin Can not wait for #iPad 2 also. The...   pos   \n",
       "3  @sxsw I hope this year's festival isn't as cra...   neg   \n",
       "4  @sxtxstate great stuff on Fri #SXSW: Marissa M...   pos   \n",
       "\n",
       "                                        cleaned_text  \\\n",
       "0  3g iphone hr tweeting rise_austin dead need up...   \n",
       "1  know awesome ipad iphone app likely appreciate...   \n",
       "2                                wait ipad also sale   \n",
       "3          hope year festival crashy year iphone app   \n",
       "4  great stuff fri marissa mayer google tim reill...   \n",
       "\n",
       "                                     lemmatized_text    neg    neu    pos  \\\n",
       "0  [3g, iphone, hr, tweeting, rise_austin, dead, ...  0.213  0.787  0.000   \n",
       "1  [know, awesome, ipad, iphone, app, likely, app...  0.000  0.545  0.455   \n",
       "2                           [wait, ipad, also, sale]  0.000  1.000  0.000   \n",
       "3  [hope, year, festival, crashy, year, iphone, app]  0.000  0.643  0.357   \n",
       "4  [great, stuff, fri, marissa, mayer, google, ti...  0.000  0.785  0.215   \n",
       "\n",
       "   compound  \n",
       "0   -0.6800  \n",
       "1    0.9100  \n",
       "2    0.0000  \n",
       "3    0.7269  \n",
       "4    0.6249  "
      ]
     },
     "execution_count": 33,
     "metadata": {},
     "output_type": "execute_result"
    }
   ],
   "source": [
    "data = pd.read_csv(\"EDA/cleaned_data/cleaned.csv\")\n",
    "data.drop(\"Unnamed: 0\", axis = 1, inplace = True)\n",
    "data[\"lemmatized_text\"] = data[\"lemmatized_text\"].apply(\n",
    "    lambda x: x.replace(\"[\", \"\").replace(\"]\", \"\").replace(\"'\", \"\").replace(\" \", \"\").split(\",\"))\n",
    "\n",
    "data[\"cleaned_text\"] = data[\"lemmatized_text\"].apply(lambda x: \" \".join(x))\n",
    "data.head()"
   ]
  },
  {
   "cell_type": "code",
   "execution_count": 34,
   "metadata": {
    "hidden": true
   },
   "outputs": [
    {
     "data": {
      "text/plain": [
       "['3g',\n",
       " 'iphone',\n",
       " 'hr',\n",
       " 'tweeting',\n",
       " 'rise_austin',\n",
       " 'dead',\n",
       " 'need',\n",
       " 'upgrade',\n",
       " 'plugin',\n",
       " 'station']"
      ]
     },
     "execution_count": 34,
     "metadata": {},
     "output_type": "execute_result"
    }
   ],
   "source": [
    "data.iloc[0].lemmatized_text"
   ]
  },
  {
   "cell_type": "markdown",
   "metadata": {
    "heading_collapsed": true
   },
   "source": [
    "# Train Test Split"
   ]
  },
  {
   "cell_type": "code",
   "execution_count": 35,
   "metadata": {
    "hidden": true
   },
   "outputs": [],
   "source": [
    "le = LabelEncoder()\n",
    "data[\"label_encoded\"] = le.fit_transform(data[\"label\"])\n",
    "\n",
    "df = data[[\"cleaned_text\", 'neg', 'neu', 'pos', 'compound']]\n",
    "y = data[\"label_encoded\"]\n",
    "\n",
    "\n",
    "X_train, X_test, y_train, y_test = train_test_split(df, y, test_size=0.33, random_state=42)\n",
    "\n",
    "num = ['neg', 'neu', 'pos', 'compound']\n",
    "text = [\"cleaned_text\"]\n",
    "\n",
    "X_num_train = X_train[num]\n",
    "X_num_test  = X_test[num]\n",
    "\n",
    "X_text_train = X_train[text]\n",
    "X_text_test  = X_test[text]"
   ]
  },
  {
   "cell_type": "code",
   "execution_count": 36,
   "metadata": {
    "hidden": true
   },
   "outputs": [
    {
     "data": {
      "text/plain": [
       "1    0.595633\n",
       "2    0.324577\n",
       "0    0.062223\n",
       "3    0.017567\n",
       "Name: label_encoded, dtype: float64"
      ]
     },
     "execution_count": 36,
     "metadata": {},
     "output_type": "execute_result"
    }
   ],
   "source": [
    "y_train.value_counts(normalize = True)"
   ]
  },
  {
   "cell_type": "markdown",
   "metadata": {},
   "source": [
    "# TF-IDF for word count and modeling"
   ]
  },
  {
   "cell_type": "markdown",
   "metadata": {
    "heading_collapsed": true
   },
   "source": [
    "## TF-IDF for word count"
   ]
  },
  {
   "cell_type": "code",
   "execution_count": 38,
   "metadata": {
    "hidden": true
   },
   "outputs": [],
   "source": [
    "tfidf = TfidfVectorizer(max_features=10)\n",
    "X_train_tfidf = tfidf.fit_transform(X_train[\"cleaned_text\"])\n",
    "X_test_tfidf  = tfidf.transform(X_test[\"cleaned_text\"])\n",
    "\n",
    "\n",
    "X_train_tfidf_df = pd.DataFrame.sparse.from_spmatrix(X_train_tfidf, \n",
    "                                                     columns=tfidf.get_feature_names(),\n",
    "                                                    index = X_train.index)\n",
    "\n",
    "train_num = pd.concat([X_train_tfidf_df,X_train[num]], axis = 1)\n",
    "train = X_train_tfidf.copy()\n",
    "\n",
    "X_test_tfidf_df = pd.DataFrame.sparse.from_spmatrix(X_test_tfidf, \n",
    "                                                     columns=tfidf.get_feature_names(),\n",
    "                                                   index = X_test.index)\n",
    "\n",
    "test_num = pd.concat([X_test_tfidf_df,X_num_test], axis = 1)\n",
    "test = X_test_tfidf.copy()"
   ]
  },
  {
   "cell_type": "markdown",
   "metadata": {},
   "source": [
    "## Modeling for TF-IDF for word count."
   ]
  },
  {
   "cell_type": "markdown",
   "metadata": {
    "heading_collapsed": true
   },
   "source": [
    "### Naive Bayes"
   ]
  },
  {
   "cell_type": "markdown",
   "metadata": {
    "heading_collapsed": true,
    "hidden": true
   },
   "source": [
    "#### Only TF-IDF no other numerical Values"
   ]
  },
  {
   "cell_type": "code",
   "execution_count": 53,
   "metadata": {
    "hidden": true
   },
   "outputs": [
    {
     "name": "stdout",
     "output_type": "stream",
     "text": [
      "Results summaries are\n",
      "\n",
      "Accuracy is              : 0.5864711762745751\n",
      "----------------------------------------\n",
      "The Classification Report is\n",
      "\n",
      "              precision    recall  f1-score   support\n",
      "\n",
      "           0       0.00      0.00      0.00       191\n",
      "           1       0.59      1.00      0.74      1760\n",
      "           2       0.00      0.00      0.00      1001\n",
      "           3       0.00      0.00      0.00        49\n",
      "\n",
      "    accuracy                           0.59      3001\n",
      "   macro avg       0.15      0.25      0.18      3001\n",
      "weighted avg       0.34      0.59      0.43      3001\n",
      "\n",
      "----------------------------------------\n",
      "And Confusion Matrix is\n",
      "\n"
     ]
    },
    {
     "data": {
      "image/png": "[encoded data removed]",
      "text/plain": [
       "<Figure size 432x288 with 2 Axes>"
      ]
     },
     "metadata": {
      "needs_background": "light"
     },
     "output_type": "display_data"
    }
   ],
   "source": [
    "mb = MultinomialNB().fit(train, y_train)\n",
    "\n",
    "print_results(mb , y_test, test)"
   ]
  },
  {
   "cell_type": "markdown",
   "metadata": {
    "heading_collapsed": true,
    "hidden": true
   },
   "source": [
    "#### With Numerical Values"
   ]
  },
  {
   "cell_type": "code",
   "execution_count": 54,
   "metadata": {
    "hidden": true
   },
   "outputs": [
    {
     "name": "stdout",
     "output_type": "stream",
     "text": [
      "Results summaries are\n",
      "\n",
      "Accuracy is              : 0.5934688437187604\n",
      "----------------------------------------\n",
      "The Classification Report is\n",
      "\n",
      "              precision    recall  f1-score   support\n",
      "\n",
      "           0       0.24      0.36      0.29       191\n",
      "           1       0.67      0.75      0.71      1760\n",
      "           2       0.52      0.39      0.45      1001\n",
      "           3       0.00      0.00      0.00        49\n",
      "\n",
      "    accuracy                           0.59      3001\n",
      "   macro avg       0.36      0.38      0.36      3001\n",
      "weighted avg       0.58      0.59      0.58      3001\n",
      "\n",
      "----------------------------------------\n",
      "And Confusion Matrix is\n",
      "\n"
     ]
    },
    {
     "data": {
      "image/png": "[encoded data removed]",
      "text/plain": [
       "<Figure size 432x288 with 2 Axes>"
      ]
     },
     "metadata": {
      "needs_background": "light"
     },
     "output_type": "display_data"
    }
   ],
   "source": [
    "mb_num = GaussianNB().fit(train_num, y_train)\n",
    "\n",
    "print_results(mb_num , y_test, test_num)"
   ]
  },
  {
   "cell_type": "markdown",
   "metadata": {
    "heading_collapsed": true
   },
   "source": [
    "### Logistic Regression"
   ]
  },
  {
   "cell_type": "markdown",
   "metadata": {
    "heading_collapsed": true,
    "hidden": true
   },
   "source": [
    "#### Only TF-IDF no other numerical Values"
   ]
  },
  {
   "cell_type": "code",
   "execution_count": 55,
   "metadata": {
    "hidden": true
   },
   "outputs": [
    {
     "name": "stdout",
     "output_type": "stream",
     "text": [
      "Results summaries are\n",
      "\n",
      "Accuracy is              : 0.5591469510163279\n",
      "----------------------------------------\n",
      "The Classification Report is\n",
      "\n",
      "              precision    recall  f1-score   support\n",
      "\n",
      "           0       0.19      0.22      0.20       191\n",
      "           1       0.64      0.76      0.69      1760\n",
      "           2       0.44      0.30      0.36      1001\n",
      "           3       0.00      0.00      0.00        49\n",
      "\n",
      "    accuracy                           0.56      3001\n",
      "   macro avg       0.32      0.32      0.31      3001\n",
      "weighted avg       0.53      0.56      0.54      3001\n",
      "\n",
      "----------------------------------------\n",
      "And Confusion Matrix is\n",
      "\n"
     ]
    },
    {
     "data": {
      "image/png": "[encoded data removed]",
      "text/plain": [
       "<Figure size 432x288 with 2 Axes>"
      ]
     },
     "metadata": {
      "needs_background": "light"
     },
     "output_type": "display_data"
    }
   ],
   "source": [
    "lr = LogisticRegression(class_weight = \"balanced\",\n",
    "                        solver='liblinear',\n",
    "                        random_state = 42).fit(train, y_train)\n",
    "\n",
    "\n",
    "print_results(lr , y_test, test)"
   ]
  },
  {
   "cell_type": "markdown",
   "metadata": {
    "heading_collapsed": true,
    "hidden": true
   },
   "source": [
    "#### With Numerical Values"
   ]
  },
  {
   "cell_type": "code",
   "execution_count": 56,
   "metadata": {
    "hidden": true
   },
   "outputs": [
    {
     "name": "stdout",
     "output_type": "stream",
     "text": [
      "Results summaries are\n",
      "\n",
      "Accuracy is              : 0.6131289570143286\n",
      "----------------------------------------\n",
      "The Classification Report is\n",
      "\n",
      "              precision    recall  f1-score   support\n",
      "\n",
      "           0       0.27      0.33      0.30       191\n",
      "           1       0.69      0.77      0.73      1760\n",
      "           2       0.53      0.43      0.47      1001\n",
      "           3       0.00      0.00      0.00        49\n",
      "\n",
      "    accuracy                           0.61      3001\n",
      "   macro avg       0.37      0.38      0.37      3001\n",
      "weighted avg       0.60      0.61      0.60      3001\n",
      "\n",
      "----------------------------------------\n",
      "And Confusion Matrix is\n",
      "\n"
     ]
    },
    {
     "data": {
      "image/png": "[encoded data removed]",
      "text/plain": [
       "<Figure size 432x288 with 2 Axes>"
      ]
     },
     "metadata": {
      "needs_background": "light"
     },
     "output_type": "display_data"
    }
   ],
   "source": [
    "lr_num = LogisticRegression(class_weight = \"balanced\",\n",
    "                        solver='liblinear',\n",
    "                        random_state = 42).fit(train_num, y_train)\n",
    "\n",
    "\n",
    "print_results(lr_num , y_test, test_num)"
   ]
  },
  {
   "cell_type": "markdown",
   "metadata": {},
   "source": [
    "### Decision Tree"
   ]
  },
  {
   "cell_type": "markdown",
   "metadata": {
    "heading_collapsed": true
   },
   "source": [
    "#### Only TF-IDF no other numerical Values"
   ]
  },
  {
   "cell_type": "code",
   "execution_count": 57,
   "metadata": {
    "hidden": true
   },
   "outputs": [
    {
     "name": "stdout",
     "output_type": "stream",
     "text": [
      "Results summaries are\n",
      "\n",
      "Accuracy is              : 0.4028657114295235\n",
      "----------------------------------------\n",
      "The Classification Report is\n",
      "\n",
      "              precision    recall  f1-score   support\n",
      "\n",
      "           0       0.13      0.54      0.21       191\n",
      "           1       0.72      0.49      0.58      1760\n",
      "           2       0.46      0.23      0.31      1001\n",
      "           3       0.02      0.20      0.04        49\n",
      "\n",
      "    accuracy                           0.40      3001\n",
      "   macro avg       0.33      0.37      0.28      3001\n",
      "weighted avg       0.58      0.40      0.46      3001\n",
      "\n",
      "----------------------------------------\n",
      "And Confusion Matrix is\n",
      "\n"
     ]
    },
    {
     "data": {
      "image/png": "[encoded data removed]",
      "text/plain": [
       "<Figure size 432x288 with 2 Axes>"
      ]
     },
     "metadata": {
      "needs_background": "light"
     },
     "output_type": "display_data"
    }
   ],
   "source": [
    "tree_clf = DecisionTreeClassifier(class_weight = \"balanced\",\n",
    "                                  criterion = \"gini\",\n",
    "                                  max_depth = 20,\n",
    "                                  random_state = 42).fit(train, y_train)\n",
    "\n",
    "print_results(tree_clf, y_test, test)"
   ]
  },
  {
   "cell_type": "markdown",
   "metadata": {
    "heading_collapsed": true
   },
   "source": [
    "#### With Numerical Values"
   ]
  },
  {
   "cell_type": "code",
   "execution_count": 58,
   "metadata": {
    "hidden": true
   },
   "outputs": [
    {
     "name": "stdout",
     "output_type": "stream",
     "text": [
      "Results summaries are\n",
      "\n",
      "Accuracy is              : 0.4721759413528824\n",
      "----------------------------------------\n",
      "The Classification Report is\n",
      "\n",
      "              precision    recall  f1-score   support\n",
      "\n",
      "           0       0.15      0.28      0.20       191\n",
      "           1       0.67      0.54      0.60      1760\n",
      "           2       0.48      0.40      0.44      1001\n",
      "           3       0.02      0.18      0.04        49\n",
      "\n",
      "    accuracy                           0.47      3001\n",
      "   macro avg       0.33      0.35      0.32      3001\n",
      "weighted avg       0.56      0.47      0.51      3001\n",
      "\n",
      "----------------------------------------\n",
      "And Confusion Matrix is\n",
      "\n"
     ]
    },
    {
     "data": {
      "image/png": "[encoded data removed]",
      "text/plain": [
       "<Figure size 432x288 with 2 Axes>"
      ]
     },
     "metadata": {
      "needs_background": "light"
     },
     "output_type": "display_data"
    }
   ],
   "source": [
    "tree_clf_num = DecisionTreeClassifier(class_weight = \"balanced\",\n",
    "                                  criterion = \"gini\",\n",
    "                                  max_depth = 20,\n",
    "                                  random_state = 42).fit(train_num, y_train)\n",
    "\n",
    "print_results(tree_clf_num, y_test, test_num)"
   ]
  },
  {
   "cell_type": "markdown",
   "metadata": {},
   "source": [
    "### Random Forest"
   ]
  },
  {
   "cell_type": "markdown",
   "metadata": {
    "heading_collapsed": true
   },
   "source": [
    "#### Only TF-IDF no other numerical Values"
   ]
  },
  {
   "cell_type": "code",
   "execution_count": 59,
   "metadata": {
    "hidden": true
   },
   "outputs": [
    {
     "name": "stdout",
     "output_type": "stream",
     "text": [
      "Results summaries are\n",
      "\n",
      "Accuracy is              : 0.5888037320893036\n",
      "----------------------------------------\n",
      "The Classification Report is\n",
      "\n",
      "              precision    recall  f1-score   support\n",
      "\n",
      "           0       0.25      0.01      0.01       191\n",
      "           1       0.60      0.95      0.74      1760\n",
      "           2       0.45      0.09      0.15      1001\n",
      "           3       0.00      0.00      0.00        49\n",
      "\n",
      "    accuracy                           0.59      3001\n",
      "   macro avg       0.33      0.26      0.22      3001\n",
      "weighted avg       0.52      0.59      0.48      3001\n",
      "\n",
      "----------------------------------------\n",
      "And Confusion Matrix is\n",
      "\n"
     ]
    },
    {
     "data": {
      "image/png": "[encoded data removed]",
      "text/plain": [
       "<Figure size 432x288 with 2 Axes>"
      ]
     },
     "metadata": {
      "needs_background": "light"
     },
     "output_type": "display_data"
    }
   ],
   "source": [
    "rf = RandomForestClassifier(criterion=\"entropy\",\n",
    "                            n_estimators=50,\n",
    "                            bootstrap = True,\n",
    "                            random_state = 42).fit(train, y_train)\n",
    "\n",
    "\n",
    "print_results(rf, y_test, test)"
   ]
  },
  {
   "cell_type": "markdown",
   "metadata": {
    "heading_collapsed": true
   },
   "source": [
    "#### With Numerical Values"
   ]
  },
  {
   "cell_type": "code",
   "execution_count": 60,
   "metadata": {
    "hidden": true
   },
   "outputs": [
    {
     "name": "stdout",
     "output_type": "stream",
     "text": [
      "Results summaries are\n",
      "\n",
      "Accuracy is              : 0.6237920693102299\n",
      "----------------------------------------\n",
      "The Classification Report is\n",
      "\n",
      "              precision    recall  f1-score   support\n",
      "\n",
      "           0       0.37      0.16      0.23       191\n",
      "           1       0.66      0.82      0.73      1760\n",
      "           2       0.54      0.39      0.46      1001\n",
      "           3       0.08      0.02      0.03        49\n",
      "\n",
      "    accuracy                           0.62      3001\n",
      "   macro avg       0.42      0.35      0.36      3001\n",
      "weighted avg       0.60      0.62      0.60      3001\n",
      "\n",
      "----------------------------------------\n",
      "And Confusion Matrix is\n",
      "\n"
     ]
    },
    {
     "data": {
      "image/png": "[encoded data removed]",
      "text/plain": [
       "<Figure size 432x288 with 2 Axes>"
      ]
     },
     "metadata": {
      "needs_background": "light"
     },
     "output_type": "display_data"
    }
   ],
   "source": [
    "rf_num = RandomForestClassifier(criterion=\"entropy\",\n",
    "                            n_estimators=50,\n",
    "                            bootstrap = True,\n",
    "                            random_state = 42).fit(train_num, y_train)\n",
    "\n",
    "\n",
    "print_results(rf_num, y_test, test_num)"
   ]
  },
  {
   "cell_type": "markdown",
   "metadata": {},
   "source": [
    "### XGBoost"
   ]
  },
  {
   "cell_type": "markdown",
   "metadata": {
    "heading_collapsed": true
   },
   "source": [
    "#### Only TF-IDF no other numerical Values"
   ]
  },
  {
   "cell_type": "code",
   "execution_count": 61,
   "metadata": {
    "hidden": true
   },
   "outputs": [
    {
     "name": "stdout",
     "output_type": "stream",
     "text": [
      "Results summaries are\n",
      "\n",
      "Accuracy is              : 0.5894701766077974\n",
      "----------------------------------------\n",
      "The Classification Report is\n",
      "\n",
      "              precision    recall  f1-score   support\n",
      "\n",
      "           0       0.00      0.00      0.00       191\n",
      "           1       0.60      0.96      0.74      1760\n",
      "           2       0.46      0.08      0.14      1001\n",
      "           3       0.00      0.00      0.00        49\n",
      "\n",
      "    accuracy                           0.59      3001\n",
      "   macro avg       0.26      0.26      0.22      3001\n",
      "weighted avg       0.50      0.59      0.48      3001\n",
      "\n",
      "----------------------------------------\n",
      "And Confusion Matrix is\n",
      "\n"
     ]
    },
    {
     "data": {
      "image/png": "[encoded data removed]",
      "text/plain": [
       "<Figure size 432x288 with 2 Axes>"
      ]
     },
     "metadata": {
      "needs_background": "light"
     },
     "output_type": "display_data"
    }
   ],
   "source": [
    "clf_xgb = xgb.XGBClassifier(max_depth = 20, n_estimators= 20 , seed=42,\n",
    "#                         alpha = 10, \n",
    "                        objective = 'binary:logistic', \n",
    "                        eval_metric = \"auc\").fit(train, y_train)\n",
    "\n",
    "print_results(clf_xgb, y_test, test)"
   ]
  },
  {
   "cell_type": "markdown",
   "metadata": {
    "heading_collapsed": true
   },
   "source": [
    "#### With Numerical Values"
   ]
  },
  {
   "cell_type": "code",
   "execution_count": 62,
   "metadata": {
    "hidden": true
   },
   "outputs": [
    {
     "name": "stdout",
     "output_type": "stream",
     "text": [
      "Results summaries are\n",
      "\n",
      "Accuracy is              : 0.6227924025324891\n",
      "----------------------------------------\n",
      "The Classification Report is\n",
      "\n",
      "              precision    recall  f1-score   support\n",
      "\n",
      "           0       0.41      0.17      0.24       191\n",
      "           1       0.66      0.82      0.73      1760\n",
      "           2       0.54      0.40      0.46      1001\n",
      "           3       0.00      0.00      0.00        49\n",
      "\n",
      "    accuracy                           0.62      3001\n",
      "   macro avg       0.40      0.35      0.36      3001\n",
      "weighted avg       0.59      0.62      0.60      3001\n",
      "\n",
      "----------------------------------------\n",
      "And Confusion Matrix is\n",
      "\n"
     ]
    },
    {
     "data": {
      "image/png": "[encoded data removed]",
      "text/plain": [
       "<Figure size 432x288 with 2 Axes>"
      ]
     },
     "metadata": {
      "needs_background": "light"
     },
     "output_type": "display_data"
    }
   ],
   "source": [
    "clf_xgb_num = xgb.XGBClassifier(max_depth = 20, n_estimators= 20 , seed=42,\n",
    "#                         alpha = 10, \n",
    "                        objective = 'binary:logistic', \n",
    "                        eval_metric = \"auc\").fit(train_num, y_train)\n",
    "\n",
    "print_results(clf_xgb_num, y_test, test_num)"
   ]
  },
  {
   "cell_type": "markdown",
   "metadata": {},
   "source": [
    "### LightGBM"
   ]
  },
  {
   "cell_type": "markdown",
   "metadata": {
    "heading_collapsed": true
   },
   "source": [
    "#### Only TF-IDF no other numerical Values"
   ]
  },
  {
   "cell_type": "code",
   "execution_count": 63,
   "metadata": {
    "hidden": true
   },
   "outputs": [
    {
     "name": "stdout",
     "output_type": "stream",
     "text": [
      "[LightGBM] [Warning] num_iterations is set=100, num_boost_round=100 will be ignored. Current value: num_iterations=100\n",
      "[LightGBM] [Warning] Accuracy may be bad since you didn't explicitly set num_leaves OR 2^max_depth > num_leaves. (num_leaves=31).\n",
      "[LightGBM] [Warning] Accuracy may be bad since you didn't explicitly set num_leaves OR 2^max_depth > num_leaves. (num_leaves=31).\n",
      "[LightGBM] [Info] Total Bins 578\n",
      "[LightGBM] [Info] Number of data points in the train set: 6091, number of used features: 10\n",
      "[LightGBM] [Warning] num_iterations is set=100, num_boost_round=100 will be ignored. Current value: num_iterations=100\n",
      "[LightGBM] [Warning] Accuracy may be bad since you didn't explicitly set num_leaves OR 2^max_depth > num_leaves. (num_leaves=31).\n",
      "[LightGBM] [Info] Start training from score -1.386294\n",
      "[LightGBM] [Info] Start training from score -1.386294\n",
      "[LightGBM] [Info] Start training from score -1.386294\n",
      "[LightGBM] [Info] Start training from score -1.386294\n",
      "[1]\tvalid_0's multi_logloss: 1.38028\n",
      "[2]\tvalid_0's multi_logloss: 1.37457\n",
      "[3]\tvalid_0's multi_logloss: 1.36917\n",
      "[4]\tvalid_0's multi_logloss: 1.36399\n",
      "[5]\tvalid_0's multi_logloss: 1.3591\n",
      "[6]\tvalid_0's multi_logloss: 1.35433\n",
      "[7]\tvalid_0's multi_logloss: 1.34977\n",
      "[8]\tvalid_0's multi_logloss: 1.34542\n",
      "[9]\tvalid_0's multi_logloss: 1.34114\n",
      "[10]\tvalid_0's multi_logloss: 1.33722\n",
      "[11]\tvalid_0's multi_logloss: 1.33336\n",
      "[12]\tvalid_0's multi_logloss: 1.32972\n",
      "[13]\tvalid_0's multi_logloss: 1.32625\n",
      "[14]\tvalid_0's multi_logloss: 1.32292\n",
      "[15]\tvalid_0's multi_logloss: 1.31974\n",
      "[16]\tvalid_0's multi_logloss: 1.31669\n",
      "[17]\tvalid_0's multi_logloss: 1.31373\n",
      "[18]\tvalid_0's multi_logloss: 1.31098\n",
      "[19]\tvalid_0's multi_logloss: 1.3083\n",
      "[20]\tvalid_0's multi_logloss: 1.30576\n",
      "[21]\tvalid_0's multi_logloss: 1.30325\n",
      "[22]\tvalid_0's multi_logloss: 1.30085\n",
      "[23]\tvalid_0's multi_logloss: 1.29852\n",
      "[24]\tvalid_0's multi_logloss: 1.29627\n",
      "[25]\tvalid_0's multi_logloss: 1.29403\n",
      "[26]\tvalid_0's multi_logloss: 1.29194\n",
      "[27]\tvalid_0's multi_logloss: 1.28999\n",
      "[28]\tvalid_0's multi_logloss: 1.28806\n",
      "[29]\tvalid_0's multi_logloss: 1.28619\n",
      "[30]\tvalid_0's multi_logloss: 1.28435\n",
      "[31]\tvalid_0's multi_logloss: 1.28264\n",
      "[32]\tvalid_0's multi_logloss: 1.28099\n",
      "[33]\tvalid_0's multi_logloss: 1.27945\n",
      "[34]\tvalid_0's multi_logloss: 1.27798\n",
      "[35]\tvalid_0's multi_logloss: 1.27662\n",
      "[36]\tvalid_0's multi_logloss: 1.27524\n",
      "[37]\tvalid_0's multi_logloss: 1.27387\n",
      "[38]\tvalid_0's multi_logloss: 1.27256\n",
      "[39]\tvalid_0's multi_logloss: 1.27131\n",
      "[40]\tvalid_0's multi_logloss: 1.2701\n",
      "[41]\tvalid_0's multi_logloss: 1.26897\n",
      "[42]\tvalid_0's multi_logloss: 1.2678\n",
      "[43]\tvalid_0's multi_logloss: 1.26674\n",
      "[44]\tvalid_0's multi_logloss: 1.26567\n",
      "[45]\tvalid_0's multi_logloss: 1.26468\n",
      "[46]\tvalid_0's multi_logloss: 1.26378\n",
      "[47]\tvalid_0's multi_logloss: 1.26281\n",
      "[48]\tvalid_0's multi_logloss: 1.26195\n",
      "[49]\tvalid_0's multi_logloss: 1.26104\n",
      "[50]\tvalid_0's multi_logloss: 1.26016\n",
      "[51]\tvalid_0's multi_logloss: 1.25929\n",
      "[52]\tvalid_0's multi_logloss: 1.25848\n",
      "[53]\tvalid_0's multi_logloss: 1.2577\n",
      "[54]\tvalid_0's multi_logloss: 1.25694\n",
      "[55]\tvalid_0's multi_logloss: 1.25623\n",
      "[56]\tvalid_0's multi_logloss: 1.25547\n",
      "[57]\tvalid_0's multi_logloss: 1.25481\n",
      "[58]\tvalid_0's multi_logloss: 1.25412\n",
      "[59]\tvalid_0's multi_logloss: 1.25353\n",
      "[60]\tvalid_0's multi_logloss: 1.25291\n",
      "[61]\tvalid_0's multi_logloss: 1.25234\n",
      "[62]\tvalid_0's multi_logloss: 1.2518\n",
      "[63]\tvalid_0's multi_logloss: 1.25128\n",
      "[64]\tvalid_0's multi_logloss: 1.25082\n",
      "[65]\tvalid_0's multi_logloss: 1.25034\n",
      "[66]\tvalid_0's multi_logloss: 1.24984\n",
      "[67]\tvalid_0's multi_logloss: 1.24943\n",
      "[68]\tvalid_0's multi_logloss: 1.24892\n",
      "[69]\tvalid_0's multi_logloss: 1.24854\n",
      "[70]\tvalid_0's multi_logloss: 1.24811\n",
      "[71]\tvalid_0's multi_logloss: 1.2477\n",
      "[72]\tvalid_0's multi_logloss: 1.24738\n",
      "[73]\tvalid_0's multi_logloss: 1.247\n",
      "[74]\tvalid_0's multi_logloss: 1.24662\n",
      "[75]\tvalid_0's multi_logloss: 1.2463\n",
      "[76]\tvalid_0's multi_logloss: 1.24594\n",
      "[77]\tvalid_0's multi_logloss: 1.24565\n",
      "[78]\tvalid_0's multi_logloss: 1.24537\n",
      "[79]\tvalid_0's multi_logloss: 1.24502\n",
      "[80]\tvalid_0's multi_logloss: 1.24479\n",
      "[81]\tvalid_0's multi_logloss: 1.24448\n",
      "[82]\tvalid_0's multi_logloss: 1.24425\n",
      "[83]\tvalid_0's multi_logloss: 1.24393\n",
      "[84]\tvalid_0's multi_logloss: 1.2437\n",
      "[85]\tvalid_0's multi_logloss: 1.24348\n",
      "[86]\tvalid_0's multi_logloss: 1.24328\n",
      "[87]\tvalid_0's multi_logloss: 1.24307\n",
      "[88]\tvalid_0's multi_logloss: 1.24288\n",
      "[89]\tvalid_0's multi_logloss: 1.24271\n",
      "[90]\tvalid_0's multi_logloss: 1.2425\n",
      "[91]\tvalid_0's multi_logloss: 1.24231\n",
      "[92]\tvalid_0's multi_logloss: 1.24215\n",
      "[93]\tvalid_0's multi_logloss: 1.24202\n",
      "[94]\tvalid_0's multi_logloss: 1.24183\n",
      "[95]\tvalid_0's multi_logloss: 1.24167\n",
      "[96]\tvalid_0's multi_logloss: 1.24156\n",
      "[97]\tvalid_0's multi_logloss: 1.24146\n",
      "[98]\tvalid_0's multi_logloss: 1.24132\n",
      "[99]\tvalid_0's multi_logloss: 1.24117\n",
      "[100]\tvalid_0's multi_logloss: 1.24105\n"
     ]
    }
   ],
   "source": [
    "# num_boost_round=100\n",
    "params = {'num_boost_round':100,\n",
    "        'learning_rate':0.02,\n",
    "        'objective' : 'binary',\n",
    "        'max_depth':20,\n",
    "#         'eval_metric':'AUC',\n",
    "#         'eval_metric':\"logloss\",\n",
    "        'verbose':1,\n",
    "#         'od_type':\"Iter\", # overfit detector\n",
    "#         'od_wait':500, # most recent best iteration to wait before stopping\n",
    "        'random_seed': 42,\n",
    "        'class_weight' :  'balanced',\n",
    "        'force_row_wise' : True\n",
    "          }\n",
    "\n",
    "lgb_model = lgb.LGBMClassifier(**params)\n",
    "lgb_model.fit(train, y_train, eval_metric = \"logloss\",  \n",
    "          eval_set=(test, y_test));"
   ]
  },
  {
   "cell_type": "code",
   "execution_count": 64,
   "metadata": {
    "hidden": true
   },
   "outputs": [
    {
     "name": "stdout",
     "output_type": "stream",
     "text": [
      "Results summaries are\n",
      "\n",
      "Accuracy is              : 0.3882039320226591\n",
      "----------------------------------------\n",
      "The Classification Report is\n",
      "\n",
      "              precision    recall  f1-score   support\n",
      "\n",
      "           0       0.12      0.57      0.20       191\n",
      "           1       0.73      0.45      0.56      1760\n",
      "           2       0.45      0.25      0.32      1001\n",
      "           3       0.02      0.18      0.04        49\n",
      "\n",
      "    accuracy                           0.39      3001\n",
      "   macro avg       0.33      0.36      0.28      3001\n",
      "weighted avg       0.58      0.39      0.45      3001\n",
      "\n",
      "----------------------------------------\n",
      "And Confusion Matrix is\n",
      "\n"
     ]
    },
    {
     "data": {
      "image/png": "[encoded data removed]",
      "text/plain": [
       "<Figure size 432x288 with 2 Axes>"
      ]
     },
     "metadata": {
      "needs_background": "light"
     },
     "output_type": "display_data"
    }
   ],
   "source": [
    "print_results(lgb_model, y_test, test)"
   ]
  },
  {
   "cell_type": "markdown",
   "metadata": {
    "heading_collapsed": true
   },
   "source": [
    "#### With Numerical Values"
   ]
  },
  {
   "cell_type": "code",
   "execution_count": 65,
   "metadata": {
    "hidden": true
   },
   "outputs": [
    {
     "name": "stdout",
     "output_type": "stream",
     "text": [
      "[LightGBM] [Warning] num_iterations is set=100, num_boost_round=100 will be ignored. Current value: num_iterations=100\n",
      "[LightGBM] [Warning] Accuracy may be bad since you didn't explicitly set num_leaves OR 2^max_depth > num_leaves. (num_leaves=31).\n",
      "[LightGBM] [Warning] Accuracy may be bad since you didn't explicitly set num_leaves OR 2^max_depth > num_leaves. (num_leaves=31).\n",
      "[LightGBM] [Info] Total Bins 1571\n",
      "[LightGBM] [Info] Number of data points in the train set: 6091, number of used features: 14\n",
      "[LightGBM] [Warning] num_iterations is set=100, num_boost_round=100 will be ignored. Current value: num_iterations=100\n",
      "[LightGBM] [Warning] Accuracy may be bad since you didn't explicitly set num_leaves OR 2^max_depth > num_leaves. (num_leaves=31).\n",
      "[LightGBM] [Info] Start training from score -1.386294\n",
      "[LightGBM] [Info] Start training from score -1.386294\n",
      "[LightGBM] [Info] Start training from score -1.386294\n",
      "[LightGBM] [Info] Start training from score -1.386294\n",
      "[1]\tvalid_0's multi_logloss: 1.37741\n",
      "[2]\tvalid_0's multi_logloss: 1.36894\n",
      "[3]\tvalid_0's multi_logloss: 1.36095\n",
      "[4]\tvalid_0's multi_logloss: 1.35346\n",
      "[5]\tvalid_0's multi_logloss: 1.34629\n",
      "[6]\tvalid_0's multi_logloss: 1.33957\n",
      "[7]\tvalid_0's multi_logloss: 1.33291\n",
      "[8]\tvalid_0's multi_logloss: 1.3265\n",
      "[9]\tvalid_0's multi_logloss: 1.3205\n",
      "[10]\tvalid_0's multi_logloss: 1.31459\n",
      "[11]\tvalid_0's multi_logloss: 1.30916\n",
      "[12]\tvalid_0's multi_logloss: 1.30379\n",
      "[13]\tvalid_0's multi_logloss: 1.29858\n",
      "[14]\tvalid_0's multi_logloss: 1.29353\n",
      "[15]\tvalid_0's multi_logloss: 1.28867\n",
      "[16]\tvalid_0's multi_logloss: 1.28391\n",
      "[17]\tvalid_0's multi_logloss: 1.27925\n",
      "[18]\tvalid_0's multi_logloss: 1.27501\n",
      "[19]\tvalid_0's multi_logloss: 1.27072\n",
      "[20]\tvalid_0's multi_logloss: 1.26657\n",
      "[21]\tvalid_0's multi_logloss: 1.26275\n",
      "[22]\tvalid_0's multi_logloss: 1.2591\n",
      "[23]\tvalid_0's multi_logloss: 1.25545\n",
      "[24]\tvalid_0's multi_logloss: 1.25215\n",
      "[25]\tvalid_0's multi_logloss: 1.24893\n",
      "[26]\tvalid_0's multi_logloss: 1.24566\n",
      "[27]\tvalid_0's multi_logloss: 1.24262\n",
      "[28]\tvalid_0's multi_logloss: 1.23979\n",
      "[29]\tvalid_0's multi_logloss: 1.2369\n",
      "[30]\tvalid_0's multi_logloss: 1.23416\n",
      "[31]\tvalid_0's multi_logloss: 1.23152\n",
      "[32]\tvalid_0's multi_logloss: 1.229\n",
      "[33]\tvalid_0's multi_logloss: 1.22651\n",
      "[34]\tvalid_0's multi_logloss: 1.22407\n",
      "[35]\tvalid_0's multi_logloss: 1.22176\n",
      "[36]\tvalid_0's multi_logloss: 1.2194\n",
      "[37]\tvalid_0's multi_logloss: 1.21732\n",
      "[38]\tvalid_0's multi_logloss: 1.21519\n",
      "[39]\tvalid_0's multi_logloss: 1.21314\n",
      "[40]\tvalid_0's multi_logloss: 1.21123\n",
      "[41]\tvalid_0's multi_logloss: 1.20919\n",
      "[42]\tvalid_0's multi_logloss: 1.2074\n",
      "[43]\tvalid_0's multi_logloss: 1.20563\n",
      "[44]\tvalid_0's multi_logloss: 1.20389\n",
      "[45]\tvalid_0's multi_logloss: 1.20216\n",
      "[46]\tvalid_0's multi_logloss: 1.20043\n",
      "[47]\tvalid_0's multi_logloss: 1.19888\n",
      "[48]\tvalid_0's multi_logloss: 1.19728\n",
      "[49]\tvalid_0's multi_logloss: 1.19564\n",
      "[50]\tvalid_0's multi_logloss: 1.19405\n",
      "[51]\tvalid_0's multi_logloss: 1.19259\n",
      "[52]\tvalid_0's multi_logloss: 1.19117\n",
      "[53]\tvalid_0's multi_logloss: 1.18962\n",
      "[54]\tvalid_0's multi_logloss: 1.18822\n",
      "[55]\tvalid_0's multi_logloss: 1.18696\n",
      "[56]\tvalid_0's multi_logloss: 1.18565\n",
      "[57]\tvalid_0's multi_logloss: 1.18422\n",
      "[58]\tvalid_0's multi_logloss: 1.18305\n",
      "[59]\tvalid_0's multi_logloss: 1.18182\n",
      "[60]\tvalid_0's multi_logloss: 1.18056\n",
      "[61]\tvalid_0's multi_logloss: 1.1794\n",
      "[62]\tvalid_0's multi_logloss: 1.17847\n",
      "[63]\tvalid_0's multi_logloss: 1.17731\n",
      "[64]\tvalid_0's multi_logloss: 1.17639\n",
      "[65]\tvalid_0's multi_logloss: 1.17515\n",
      "[66]\tvalid_0's multi_logloss: 1.17413\n",
      "[67]\tvalid_0's multi_logloss: 1.17305\n",
      "[68]\tvalid_0's multi_logloss: 1.17208\n",
      "[69]\tvalid_0's multi_logloss: 1.17111\n",
      "[70]\tvalid_0's multi_logloss: 1.17017\n",
      "[71]\tvalid_0's multi_logloss: 1.16903\n",
      "[72]\tvalid_0's multi_logloss: 1.16813\n",
      "[73]\tvalid_0's multi_logloss: 1.16715\n",
      "[74]\tvalid_0's multi_logloss: 1.16624\n",
      "[75]\tvalid_0's multi_logloss: 1.16513\n",
      "[76]\tvalid_0's multi_logloss: 1.16404\n",
      "[77]\tvalid_0's multi_logloss: 1.16306\n",
      "[78]\tvalid_0's multi_logloss: 1.16192\n",
      "[79]\tvalid_0's multi_logloss: 1.16104\n",
      "[80]\tvalid_0's multi_logloss: 1.15995\n",
      "[81]\tvalid_0's multi_logloss: 1.15896\n",
      "[82]\tvalid_0's multi_logloss: 1.158\n",
      "[83]\tvalid_0's multi_logloss: 1.15719\n",
      "[84]\tvalid_0's multi_logloss: 1.15631\n",
      "[85]\tvalid_0's multi_logloss: 1.15534\n",
      "[86]\tvalid_0's multi_logloss: 1.15434\n",
      "[87]\tvalid_0's multi_logloss: 1.15329\n",
      "[88]\tvalid_0's multi_logloss: 1.15252\n",
      "[89]\tvalid_0's multi_logloss: 1.15154\n",
      "[90]\tvalid_0's multi_logloss: 1.15078\n",
      "[91]\tvalid_0's multi_logloss: 1.14989\n",
      "[92]\tvalid_0's multi_logloss: 1.14931\n",
      "[93]\tvalid_0's multi_logloss: 1.14855\n",
      "[94]\tvalid_0's multi_logloss: 1.14774\n",
      "[95]\tvalid_0's multi_logloss: 1.14703\n",
      "[96]\tvalid_0's multi_logloss: 1.14632\n",
      "[97]\tvalid_0's multi_logloss: 1.14542\n",
      "[98]\tvalid_0's multi_logloss: 1.14473\n",
      "[99]\tvalid_0's multi_logloss: 1.14378\n",
      "[100]\tvalid_0's multi_logloss: 1.14303\n"
     ]
    }
   ],
   "source": [
    "# num_boost_round=100\n",
    "params = {'num_boost_round':100,\n",
    "        'learning_rate':0.02,\n",
    "        'objective' : 'binary',\n",
    "        'max_depth':20,\n",
    "#         'eval_metric':'AUC',\n",
    "#         'eval_metric':\"logloss\",\n",
    "        'verbose':1,\n",
    "#         'od_type':\"Iter\", # overfit detector\n",
    "#         'od_wait':500, # most recent best iteration to wait before stopping\n",
    "        'random_seed': 42,\n",
    "        'class_weight' :  'balanced',\n",
    "        'force_row_wise' : True\n",
    "          }\n",
    "\n",
    "lgb_model_num = lgb.LGBMClassifier(**params)\n",
    "lgb_model_num.fit(train_num, y_train, eval_metric = \"logloss\",  \n",
    "          eval_set=(test_num, y_test));"
   ]
  },
  {
   "cell_type": "code",
   "execution_count": 66,
   "metadata": {
    "hidden": true
   },
   "outputs": [
    {
     "name": "stdout",
     "output_type": "stream",
     "text": [
      "Results summaries are\n",
      "\n",
      "Accuracy is              : 0.45451516161279576\n",
      "----------------------------------------\n",
      "The Classification Report is\n",
      "\n",
      "              precision    recall  f1-score   support\n",
      "\n",
      "           0       0.19      0.52      0.28       191\n",
      "           1       0.76      0.45      0.56      1760\n",
      "           2       0.53      0.47      0.49      1001\n",
      "           3       0.02      0.29      0.05        49\n",
      "\n",
      "    accuracy                           0.45      3001\n",
      "   macro avg       0.38      0.43      0.35      3001\n",
      "weighted avg       0.63      0.45      0.51      3001\n",
      "\n",
      "----------------------------------------\n",
      "And Confusion Matrix is\n",
      "\n"
     ]
    },
    {
     "data": {
      "image/png": "[encoded data removed]",
      "text/plain": [
       "<Figure size 432x288 with 2 Axes>"
      ]
     },
     "metadata": {
      "needs_background": "light"
     },
     "output_type": "display_data"
    }
   ],
   "source": [
    "print_results(lgb_model_num, y_test, test_num)"
   ]
  },
  {
   "cell_type": "code",
   "execution_count": null,
   "metadata": {
    "hidden": true
   },
   "outputs": [],
   "source": []
  }
 ],
 "metadata": {
  "kernelspec": {
   "display_name": "Python (learn-env)",
   "language": "python",
   "name": "learn-env"
  },
  "language_info": {
   "codemirror_mode": {
    "name": "ipython",
    "version": 3
   },
   "file_extension": ".py",
   "mimetype": "text/x-python",
   "name": "python",
   "nbconvert_exporter": "python",
   "pygments_lexer": "ipython3",
   "version": "3.8.5"
  },
  "latex_envs": {
   "LaTeX_envs_menu_present": true,
   "autoclose": false,
   "autocomplete": true,
   "bibliofile": "biblio.bib",
   "cite_by": "apalike",
   "current_citInitial": 1,
   "eqLabelWithNumbers": true,
   "eqNumInitial": 1,
   "hotkeys": {
    "equation": "Ctrl-E",
    "itemize": "Ctrl-I"
   },
   "labels_anchors": false,
   "latex_user_defs": false,
   "report_style_numbering": false,
   "user_envs_cfg": false
  },
  "toc": {
   "base_numbering": 1,
   "nav_menu": {},
   "number_sections": true,
   "sideBar": true,
   "skip_h1_title": false,
   "title_cell": "Table of Contents",
   "title_sidebar": "Contents",
   "toc_cell": false,
   "toc_position": {},
   "toc_section_display": true,
   "toc_window_display": false
  },
  "varInspector": {
   "cols": {
    "lenName": 16,
    "lenType": 16,
    "lenVar": 40
   },
   "kernels_config": {
    "python": {
     "delete_cmd_postfix": "",
     "delete_cmd_prefix": "del ",
     "library": "var_list.py",
     "varRefreshCmd": "print(var_dic_list())"
    },
    "r": {
     "delete_cmd_postfix": ") ",
     "delete_cmd_prefix": "rm(",
     "library": "var_list.r",
     "varRefreshCmd": "cat(var_dic_list()) "
    }
   },
   "types_to_exclude": [
    "module",
    "function",
    "builtin_function_or_method",
    "instance",
    "_Feature"
   ],
   "window_display": false
  }
 },
 "nbformat": 4,
 "nbformat_minor": 4
}
